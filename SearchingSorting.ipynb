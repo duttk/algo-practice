{
 "cells": [
  {
   "cell_type": "markdown",
   "metadata": {},
   "source": [
    "# Searching and Sorting"
   ]
  },
  {
   "cell_type": "markdown",
   "metadata": {},
   "source": [
    "## Searching\n",
    "\n",
    "#### Binary Search\n",
    "\n",
    "Return any index where element equals the one desired"
   ]
  },
  {
   "cell_type": "code",
   "execution_count": 21,
   "metadata": {},
   "outputs": [
    {
     "name": "stdout",
     "output_type": "stream",
     "text": [
      "[0, 1, 2, 3, 4, 4, 7, 9, 11]\n",
      "7\n",
      "0\n",
      "-1\n"
     ]
    }
   ],
   "source": [
    "def binary_search(arr, element):\n",
    "    left = 0\n",
    "    right = len(arr) - 1\n",
    "    \n",
    "    while left <= right:\n",
    "        mid = (left + right)//2\n",
    "        if element == arr[mid]:\n",
    "            return mid\n",
    "        if element < arr[mid]:\n",
    "            right = mid - 1\n",
    "        else:\n",
    "            left = mid + 1\n",
    "    \n",
    "    return -1\n",
    "\n",
    "array = [1, 3, 7, 2, 9, 4, 0, 4, 11]\n",
    "array.sort()\n",
    "print(array)\n",
    "print(binary_search(array, 9))\n",
    "print(binary_search(array, 0))\n",
    "print(binary_search(array, 12))"
   ]
  },
  {
   "cell_type": "markdown",
   "metadata": {},
   "source": [
    "#### Binary Search\n",
    "\n",
    "Return the first index where element equals the one desired\n",
    "    * If the element is found, keep searching in the lower region of the array"
   ]
  },
  {
   "cell_type": "code",
   "execution_count": 41,
   "metadata": {},
   "outputs": [
    {
     "name": "stdout",
     "output_type": "stream",
     "text": [
      "[4, 4, 4, 4, 4, 4, 4, 4]\n",
      "0\n"
     ]
    }
   ],
   "source": [
    "def binary_search(arr, element):\n",
    "    left = 0\n",
    "    right = len(arr) - 1\n",
    "    current = -1\n",
    "    while left <= right:\n",
    "        mid = (left + right)//2\n",
    "        if element == arr[mid]:\n",
    "            current = mid\n",
    "            right = mid - 1\n",
    "        elif element < arr[mid]:\n",
    "            right = mid - 1\n",
    "        else:\n",
    "            left = mid + 1\n",
    "    \n",
    "    return current\n",
    "\n",
    "# array = [1, 3, 7, 2, 9, 4, 0, 4, 11]\n",
    "# array.sort()\n",
    "# print(array)\n",
    "# print(binary_search(array, 9))\n",
    "# print(binary_search(array, 0))\n",
    "# print(binary_search(array, 12))\n",
    "array = [4, 4, 4, 4, 4, 4, 4, 4]\n",
    "array.sort()\n",
    "print(array)\n",
    "print(binary_search(array, 4))"
   ]
  },
  {
   "cell_type": "markdown",
   "metadata": {},
   "source": [
    "#### Search array for entry = index\n",
    "\n",
    "   * If the index is less than mid, \n",
    "       result cannot be on the right,\n",
    "       search the left\n",
    "   * If the index is greater than mid, \n",
    "       result cannot be on the left,\n",
    "       search the right"
   ]
  },
  {
   "cell_type": "code",
   "execution_count": 45,
   "metadata": {},
   "outputs": [
    {
     "name": "stdout",
     "output_type": "stream",
     "text": [
      "-1\n",
      "3\n"
     ]
    }
   ],
   "source": [
    "def search(arr):\n",
    "    left = 0\n",
    "    right = len(arr) - 1\n",
    "    \n",
    "    while left <= right:\n",
    "        mid = (left + right)//2\n",
    "        if mid == arr[mid]:\n",
    "            return mid\n",
    "        if mid < arr[mid]:\n",
    "            right = mid - 1\n",
    "        else:\n",
    "            left = mid + 1\n",
    "        \n",
    "        return -1\n",
    "\n",
    "arr = [-2, -1, 0, 0, 2, 2, 3]\n",
    "print(search(arr))\n",
    "arr = [-2, 0, 2, 3, 6, 7, 9]\n",
    "print(search(arr))"
   ]
  },
  {
   "cell_type": "markdown",
   "metadata": {},
   "source": [
    "#### Get smallest element in rotated sorted array\n",
    "\n",
    "   * Inflection point is where the greater to lesser transition happens\n",
    "   * The element at left gives smallest element (first element after inflection)\n",
    "   * If for any element, arr[m] > arr[right]\n",
    "       * The inflection point should be in arr[mid + 1:right + 1]\n",
    "       * Search the right\n",
    "   * Else\n",
    "       * The inflection point cannot be in arr[mid + 1:right + 1]\n",
    "       * Search the left\n",
    "   \n",
    "   * Loop ends when left = right\n",
    "   * Return left"
   ]
  },
  {
   "cell_type": "code",
   "execution_count": 46,
   "metadata": {},
   "outputs": [
    {
     "name": "stdout",
     "output_type": "stream",
     "text": [
      "4\n"
     ]
    }
   ],
   "source": [
    "def search_smallest_in_rotated_sorted_array(arr, element):\n",
    "    left = 0\n",
    "    right = len(arr) - 1\n",
    "    \n",
    "    while left < right:\n",
    "        mid = (left + right)//2\n",
    "        if arr[mid] > arr[right]:\n",
    "            left = mid + 1\n",
    "        else:\n",
    "            right = mid\n",
    "    \n",
    "    return left\n",
    "\n",
    "arr = [378, 478, 550, 631, 103, 203, 220, 234, 279, 368]\n",
    "print(search_in_rotated_sorted_array(arr, 234))"
   ]
  },
  {
   "cell_type": "markdown",
   "metadata": {},
   "source": [
    "#### Find element in rotated sorted array\n",
    "\n",
    "   * If the right side of the split is monotonically increasing\n",
    "       * If the element is within the bounds of mid and right\n",
    "           * Search Right\n",
    "       * Else \n",
    "           * Search Left\n",
    "   * Else (Left side is monotonically increasing)\n",
    "       * If element is within bounds of mid and right\n",
    "           * Search Left\n",
    "       * Else\n",
    "           * Search Right"
   ]
  },
  {
   "cell_type": "code",
   "execution_count": 64,
   "metadata": {},
   "outputs": [
    {
     "name": "stdout",
     "output_type": "stream",
     "text": [
      "1\n",
      "9\n"
     ]
    }
   ],
   "source": [
    "def find_rotated_sorted(array, element):\n",
    "    left = 0\n",
    "    right = len(array) - 1\n",
    "    \n",
    "    while left <= right:\n",
    "        mid = (left + right)//2\n",
    "        if array[mid] == element:\n",
    "            return mid\n",
    "        \n",
    "        if array[mid] < array[right]:\n",
    "            if array[mid] < element and element <= array[right]:\n",
    "                left = mid + 1\n",
    "            else:\n",
    "                right = mid - 1\n",
    "        else:\n",
    "            if array[left] < element and element <= array[right]:\n",
    "                right = mid - 1\n",
    "            else:\n",
    "                left = mid + 1\n",
    "                \n",
    "    return -1\n",
    "\n",
    "array = [378, 478, 550, 631, 103, 203, 220, 234, 279, 368]\n",
    "element = 478\n",
    "print(find_rotated_sorted(array, element))\n",
    "element = 368\n",
    "print(find_rotated_sorted(array, element))"
   ]
  },
  {
   "cell_type": "markdown",
   "metadata": {},
   "source": [
    "#### Get smallest square less than number\n",
    "\n",
    "   * Find\n"
   ]
  },
  {
   "cell_type": "code",
   "execution_count": 47,
   "metadata": {},
   "outputs": [
    {
     "name": "stdout",
     "output_type": "stream",
     "text": [
      "17\n",
      "20\n",
      "31\n"
     ]
    }
   ],
   "source": [
    "def smallest_square_less_than_number(k):\n",
    "    left = 0\n",
    "    right = k\n",
    "    \n",
    "    while left <= right:\n",
    "        mid = (left + right)//2\n",
    "        if mid * mid <= k:\n",
    "            left = mid + 1\n",
    "        else:\n",
    "            right = mid - 1\n",
    "    \n",
    "    return left - 1\n",
    "\n",
    "print(smallest_square_less_than_number(300))\n",
    "print(smallest_square_less_than_number(400))\n",
    "print(smallest_square_less_than_number(1000))"
   ]
  },
  {
   "cell_type": "markdown",
   "metadata": {},
   "source": [
    "#### Search in sorted matrix\n",
    "\n",
    "   * Start from top right (0, len(matrix[0]) - 1)\n",
    "   * If matrix[row][col] < element\n",
    "       * This row cannot contain the elemen, try next\n",
    "   * If matrix[row][col] > element\n",
    "       * This column cannot contain the element, try previous\n"
   ]
  },
  {
   "cell_type": "code",
   "execution_count": 50,
   "metadata": {},
   "outputs": [
    {
     "name": "stdout",
     "output_type": "stream",
     "text": [
      "(1, 2)\n"
     ]
    }
   ],
   "source": [
    "def search_matrix(matrix, element):\n",
    "    # Start from the top right\n",
    "    row = 0\n",
    "    col = len(matrix[0]) - 1\n",
    "    \n",
    "    # Keap searching while there is stuff left to search\n",
    "    while row < len(matrix) and col > -1:\n",
    "        if matrix[row][col] == element:\n",
    "            return row, col\n",
    "        elif matrix[row][col] < element:\n",
    "            # Eleminate this row\n",
    "            # Element cannot be in this row\n",
    "            row += 1\n",
    "        else:\n",
    "            # matrix[row][col] > element\n",
    "            # Eliminate this column\n",
    "            col -= 1\n",
    "    \n",
    "    return -1, -1\n",
    "    \n",
    "matrix = [\n",
    "    [-1, 2, 4, 4, 6],\n",
    "    [1, 5, 5, 9, 21],\n",
    "    [3, 6, 6, 9, 22],\n",
    "    [3, 6, 8, 10, 24],\n",
    "    [6, 8, 9, 12, 25],\n",
    "    [8, 10, 12, 13, 40]\n",
    "]\n",
    "print(search_matrix(matrix, 5))"
   ]
  },
  {
   "cell_type": "markdown",
   "metadata": {},
   "source": [
    "## Sorting"
   ]
  },
  {
   "cell_type": "markdown",
   "metadata": {},
   "source": [
    "#### Intersection of two sorted arrays\n",
    "\n",
    "   * Move two pointers forward\n"
   ]
  },
  {
   "cell_type": "code",
   "execution_count": 56,
   "metadata": {},
   "outputs": [
    {
     "name": "stdout",
     "output_type": "stream",
     "text": [
      "[5, 6, 8]\n"
     ]
    }
   ],
   "source": [
    "def intersection_of_two_sorted_arrays(a, b):\n",
    "    i = 0\n",
    "    j = 0\n",
    "    result = []\n",
    "    while i < len(a) and j < len(b):\n",
    "        if a[i] == b[j]:\n",
    "            if not result or not a[i] == result[-1]:\n",
    "                result.append(a[i])\n",
    "            i += 1\n",
    "            j += 1\n",
    "        elif a[i] < b[j]:\n",
    "            i += 1\n",
    "        else:\n",
    "            j += 1\n",
    "    \n",
    "    return result\n",
    "\n",
    "a = [2, 3, 3, 5, 5, 6, 7, 7, 8, 12]\n",
    "b = [5, 5, 6, 8, 8, 9, 10, 10]\n",
    "print(intersection_of_two_sorted_arrays(a, b))"
   ]
  },
  {
   "cell_type": "markdown",
   "metadata": {},
   "source": [
    "#### Intersection of two arrays without extra space\n",
    "\n",
    "   * Move backwards\n",
    "   * Keep track of a write_idx where things go\n",
    "   * Loop over both arrays\n",
    "   * When A, ends, move the B "
   ]
  },
  {
   "cell_type": "code",
   "execution_count": 61,
   "metadata": {},
   "outputs": [
    {
     "name": "stdout",
     "output_type": "stream",
     "text": [
      "[5, 3, 5, 7, 11, 13, 17, 19]\n"
     ]
    }
   ],
   "source": [
    "def merge_two_sorted_arrays(A, m, B, n):\n",
    "    i = m - 1\n",
    "    j = n - 1\n",
    "    write_idx = len(A) - 1\n",
    "    \n",
    "    while i >= 0 and j >= 0:\n",
    "        if A[i] >= B[j]:\n",
    "            A[write_idx] = A[i]\n",
    "            i -= 1\n",
    "        else:\n",
    "            A[write_idx] = B[j]\n",
    "            j -= 1\n",
    "            \n",
    "        write_idx -= 1\n",
    "    \n",
    "    while j >= 0:\n",
    "        A[write_idx] = B[j]\n",
    "        write_idx -= 1\n",
    "        j -= 1\n",
    "    \n",
    "    return A\n",
    "            \n",
    "a = [5, 13, 17, None, None, None, None, None]\n",
    "b = [3, 7, 11, 19]\n",
    "print(merge_two_sorted_arrays(a, 3, b, 4))"
   ]
  },
  {
   "cell_type": "markdown",
   "metadata": {},
   "source": [
    "#### Number of intervals\n",
    "\n",
    "   * Keep track of events and label them start and end\n",
    "   * Sort the events\n",
    "   * If event is start, add to count\n",
    "   * If event is end, remove from count\n",
    "   * Keep track max"
   ]
  },
  {
   "cell_type": "code",
   "execution_count": 62,
   "metadata": {},
   "outputs": [],
   "source": [
    "def min_meeting_rooms(intervals):\n",
    "    current_rooms = 0\n",
    "    max_rooms = 0\n",
    "    events = []\n",
    "    for interval in intervals:\n",
    "        events.append((interval.start, 'start'))\n",
    "        events.append((interval.end, 'end'))\n",
    "\n",
    "    events.sort()\n",
    "    for event in events:\n",
    "        if event[1] == 'start':\n",
    "            current_rooms += 1\n",
    "            max_rooms = max(max_rooms, current_rooms)\n",
    "        else:\n",
    "            current_rooms -= 1\n",
    "\n",
    "    return max_rooms"
   ]
  },
  {
   "cell_type": "markdown",
   "metadata": {},
   "source": [
    "#### Insert interval\n",
    "\n",
    "   * Add an interval to sorted intervals\n",
    "   * 1. For intervals that end, add to result\n",
    "   * If an intrval intersects with the one to be added, merge them\n",
    "   * 2. While there are more intervals that can be merged, keep merging, finally add them\n",
    "   * 3. Add the rest of the intervals"
   ]
  },
  {
   "cell_type": "code",
   "execution_count": 63,
   "metadata": {},
   "outputs": [],
   "source": [
    "class Interval(object):\n",
    "    def __init__(self, start, end):\n",
    "        self.start = start\n",
    "        self.end = end\n",
    "\n",
    "def insert_interval(intervals, new_interval):\n",
    "    i = 0\n",
    "    result = []\n",
    "\n",
    "    while(\n",
    "        i < len(intervals)\n",
    "        and new_interval.start > intervals[i].end\n",
    "    ):\n",
    "        result.append(intervals[i])\n",
    "        i += 1\n",
    "\n",
    "    while(\n",
    "        i < len(intervals)\n",
    "        and new_interval.end >= intervals[i].start\n",
    "    ):\n",
    "        new_interval = Interval(\n",
    "            min(new_interval.start, intervals[i].start),\n",
    "            max(new_interval.end, intervals[i].end)\n",
    "        )\n",
    "        i += 1\n",
    "\n",
    "    result.append(new_interval)\n",
    "    result.extend(intervals[i:])\n",
    "\n",
    "    return result"
   ]
  },
  {
   "cell_type": "code",
   "execution_count": null,
   "metadata": {},
   "outputs": [],
   "source": []
  }
 ],
 "metadata": {
  "kernelspec": {
   "display_name": "Python 3",
   "language": "python",
   "name": "python3"
  },
  "language_info": {
   "codemirror_mode": {
    "name": "ipython",
    "version": 3
   },
   "file_extension": ".py",
   "mimetype": "text/x-python",
   "name": "python",
   "nbconvert_exporter": "python",
   "pygments_lexer": "ipython3",
   "version": "3.6.4"
  }
 },
 "nbformat": 4,
 "nbformat_minor": 2
}
