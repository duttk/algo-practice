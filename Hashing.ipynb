{
 "cells": [
  {
   "cell_type": "markdown",
   "metadata": {},
   "source": [
    "# Hashing"
   ]
  },
  {
   "cell_type": "markdown",
   "metadata": {},
   "source": [
    "#### Rolling hash\n"
   ]
  },
  {
   "cell_type": "code",
   "execution_count": 8,
   "metadata": {},
   "outputs": [
    {
     "name": "stdout",
     "output_type": "stream",
     "text": [
      "494265\n",
      "37296\n",
      "-876648\n",
      "-2247567\n",
      "-4075461\n",
      "-6360330\n",
      "-9102174\n",
      "-12300993\n",
      "-15956787\n",
      "-20069556\n",
      "-24639300\n",
      "-29666019\n",
      "-35149713\n",
      "-41090382\n",
      "-47488026\n",
      "-54342645\n",
      "-61654239\n",
      "-69422808\n",
      "-77648352\n",
      "-86330871\n",
      "-95470365\n"
     ]
    }
   ],
   "source": [
    "import string\n",
    "def rolling_hash(text, limit):\n",
    "    BASE = 26\n",
    "    idx = 0\n",
    "    hash_val = 0\n",
    "    \n",
    "    while idx < limit:\n",
    "        hash_val += (ord(text[idx]) - ord('a') + 1) * (BASE ** (limit - idx - 1)) \n",
    "        idx += 1\n",
    "        \n",
    "    yield hash_val\n",
    "    idx += 1\n",
    "    jdx = 0\n",
    "    while idx < len(text):\n",
    "        hash_val -= (ord(text[jdx]) - ord('a') + 1) * (BASE ** (limit - 1))\n",
    "        hash_val += ord(text[idx]) - ord('a') + 1\n",
    "        idx += 1\n",
    "        jdx += 1\n",
    "        yield hash_val\n",
    "\n",
    "text = string.ascii_lowercase\n",
    "hash_gen = rolling_hash(text, 5)\n",
    "for hash_value in hash_gen:\n",
    "    print(hash_value)"
   ]
  },
  {
   "cell_type": "code",
   "execution_count": 2,
   "metadata": {},
   "outputs": [
    {
     "name": "stdout",
     "output_type": "stream",
     "text": [
      "46118745\n"
     ]
    }
   ],
   "source": [
    "import functools\n",
    "import string\n",
    "s = ''\n",
    "BASE = 26\n",
    "# t_hash = functools.reduce(lambda h, c: h * BASE + ord(c), t)\n",
    "pattern_len = 5\n",
    "pattern = 'abcde'\n",
    "string = string.ascii_lowercase\n",
    "hash_val = 0\n",
    "    \n",
    "print(hash_val)"
   ]
  },
  {
   "cell_type": "code",
   "execution_count": null,
   "metadata": {},
   "outputs": [],
   "source": []
  }
 ],
 "metadata": {
  "kernelspec": {
   "display_name": "Python 3",
   "language": "python",
   "name": "python3"
  },
  "language_info": {
   "codemirror_mode": {
    "name": "ipython",
    "version": 3
   },
   "file_extension": ".py",
   "mimetype": "text/x-python",
   "name": "python",
   "nbconvert_exporter": "python",
   "pygments_lexer": "ipython3",
   "version": "3.6.4"
  }
 },
 "nbformat": 4,
 "nbformat_minor": 2
}
