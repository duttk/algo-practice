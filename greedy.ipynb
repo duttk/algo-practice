{
 "cells": [
  {
   "cell_type": "markdown",
   "metadata": {},
   "source": [
    "## Greedy"
   ]
  },
  {
   "cell_type": "markdown",
   "metadata": {},
   "source": [
    "#### Task time overall minimisation\n",
    "* Given a set of tasks and wait times and number of workers, determine task assignment with shortest overall time\n",
    "    * Sort tasks, pair the elements with shortest and longest times\n",
    "    * Pair, 0 - (n -1) , 1 - (n - 2)\n",
    "\n",
    "#### Task wait time minimisation\n",
    "* Given task and times to process tasks, minimise overall wait times\n",
    "    * Sort the jobs by wait times\n",
    "    * Pick shortest to longest\n",
    "\n",
    "#### Majority element of the array\n",
    "* While traversing the array\n",
    "    * Pick the first element\n",
    "    * For element i, if it is the same element as the majority element, increment counter, else decrement\n",
    "    * If count == 0, then select the next element\n",
    "\n",
    "#### N Majority element of the array\n",
    "* For each unseen element\n",
    "    * Add to hash table until size == k\n",
    "    * if exceeds k, then decrement count of every element \n",
    "    * if count of any element = 0, then delete the key\n",
    "    * Finally confirm that the count of every element > n/k before returning\n",
    "\n",
    "#### Max rainwater trapped between any two poles\n",
    "* Poles are on the indices of the array\n",
    "* Return the id of the two poles between which maximum rainwater is trapped.\n",
    "    * Keep track of two points start = 0, end = len - 1\n",
    "    * if water between i and j is max when i < j, then it is max for any k, i < k < j\n",
    "    * This is because the height is limited by i and width is reduced\n",
    "    * Hence, move i forward, keep j the same \n",
    "    * Similarly, if j < i, the water between j and i is max when j < i, then it is max for any k, i > k > j\n",
    "    \n",
    "    * i = 0, j = len - 1\n",
    "    * max_water = max(max_water, min(arr[i], arr[j]) * (j - i))\n",
    "    * if arr[i] < arr[j]\n",
    "        * i += 1\n",
    "    * if arr[j] < arr[i]\n",
    "        * j -= 1\n",
    "    * else\n",
    "        i += 1, j-= 1"
   ]
  },
  {
   "cell_type": "code",
   "execution_count": null,
   "metadata": {},
   "outputs": [],
   "source": []
  }
 ],
 "metadata": {
  "kernelspec": {
   "display_name": "Python 3",
   "language": "python",
   "name": "python3"
  },
  "language_info": {
   "codemirror_mode": {
    "name": "ipython",
    "version": 3
   },
   "file_extension": ".py",
   "mimetype": "text/x-python",
   "name": "python",
   "nbconvert_exporter": "python",
   "pygments_lexer": "ipython3",
   "version": "3.6.4"
  }
 },
 "nbformat": 4,
 "nbformat_minor": 2
}
