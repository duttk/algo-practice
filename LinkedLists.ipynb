{
 "cells": [
  {
   "cell_type": "markdown",
   "metadata": {},
   "source": [
    "## Linked Lists"
   ]
  },
  {
   "cell_type": "code",
   "execution_count": 1,
   "metadata": {},
   "outputs": [],
   "source": [
    "# Linked List class\n",
    "class Node(object):\n",
    "    def __init__(self, val):\n",
    "        self.val = val\n",
    "        self.next = None"
   ]
  },
  {
   "cell_type": "code",
   "execution_count": 2,
   "metadata": {},
   "outputs": [],
   "source": [
    "# Print the list\n",
    "def print_list(node):\n",
    "    while node:\n",
    "        print(node.val)\n",
    "        node = node.next"
   ]
  },
  {
   "cell_type": "code",
   "execution_count": 3,
   "metadata": {},
   "outputs": [],
   "source": [
    "# Reverse the list\n",
    "def reverse_list(node):\n",
    "    prev = None\n",
    "    while node:\n",
    "        next_node = node.next\n",
    "        node.next = prev\n",
    "        prev = node\n",
    "        node = next_node\n",
    "    \n",
    "    return prev"
   ]
  },
  {
   "cell_type": "code",
   "execution_count": 4,
   "metadata": {},
   "outputs": [],
   "source": [
    "class SingleListNode(object):\n",
    "    def __init__(self, val):\n",
    "        self.val = val\n",
    "        self.next = None\n",
    "    \n",
    "    def __repr__(self):\n",
    "        if self.next is not None:\n",
    "            return 'VAL: {}, NEXT: {}'.format(self.val, self.next.val)\n",
    "        return 'VAL: {}, NEXT: None'.format(self.val)\n",
    "\n",
    "def create_list(n):\n",
    "    prev = None\n",
    "    first = None\n",
    "    for i in range(n):\n",
    "        node = SingleListNode(i)\n",
    "        if not first:\n",
    "            first = node\n",
    "        if prev:\n",
    "            prev.next = node\n",
    "        prev = node\n",
    "    node.next = None\n",
    "    \n",
    "    return first\n",
    "\n",
    "def print_list(node):\n",
    "    while node:\n",
    "        print(node)\n",
    "        node = node.next"
   ]
  },
  {
   "cell_type": "markdown",
   "metadata": {},
   "source": [
    "### Questions\n",
    "\n",
    "1. Remove duplicates from unsorted Linked List\n",
    "    * Hash Table - Keep track of all elements (Time - O(n), Space - O(n) )\n",
    "    * Two pointers - For each node, run to end and remove duplicates. (Time - O(n2), Space - None )\n",
    "\n",
    "2. Kth to last element in Linked list\n",
    "    * If size is known, iterate size - k times\n",
    "    * If size is not known, get size and iterage size - k times.\n",
    "    * Two pointers - move one pointer k steps forward, then move both until first pointer is at end\n",
    "\n",
    "3. Delete a node from the middle, with only access to that node\n",
    "    * copy the contents of the next node and delete the next node (Won't work if its the last node)\n",
    "\n",
    "4. Partiotion a linked list so that all nodes < x come before x and everything else comes after\n",
    "    * Create two new linked lists for less than and greater than and merge\n",
    "\n",
    "5. Sum numbers represented as linked lists\n",
    "\n",
    "6. Check if a linked list is a palindrome\n",
    "    * Push the first half of the list onto a stack. For the rest, iterate and compare to top of stack. (Take care of odd numbered lists. Skip the middle element)\n",
    "    * Create a new list as a reverse of the original\n",
    "\n",
    "7. Check if two linked lists intersect\n",
    "    * Run each list to end, check if the last node is the same\n",
    "    * Reset the pointers, determine the difference in lengths, chop off the longer list, advance both pointers until they are the same.\n",
    "\n",
    "8. Check if a linked list has a loop\n",
    "    * Two pointers, fast and slow. If they don't meet and the fast one runs to end, there is no loop.\n",
    "\n",
    "9. Reverse a linked list by groups\n",
    "    I: 0->1->2->3->4\n",
    "    O: 1->0->3->2->4\n",
    "    \n",
    "    * Add elements to stack as we traverse\n",
    "    * If the count is divisible by size, pop nodes of the stack and add to reversed list"
   ]
  },
  {
   "cell_type": "code",
   "execution_count": 5,
   "metadata": {},
   "outputs": [
    {
     "name": "stdout",
     "output_type": "stream",
     "text": [
      "VAL: 0, NEXT: 1\n",
      "VAL: 1, NEXT: 2\n",
      "VAL: 2, NEXT: 3\n",
      "VAL: 3, NEXT: 4\n",
      "VAL: 4, NEXT: 5\n",
      "VAL: 5, NEXT: 6\n",
      "VAL: 6, NEXT: 7\n",
      "VAL: 7, NEXT: 8\n",
      "VAL: 8, NEXT: 9\n",
      "VAL: 9, NEXT: 10\n",
      "VAL: 10, NEXT: None\n",
      "--------\n",
      "VAL: 2, NEXT: 1\n",
      "VAL: 1, NEXT: 0\n",
      "VAL: 0, NEXT: 5\n",
      "VAL: 5, NEXT: 4\n",
      "VAL: 4, NEXT: 3\n",
      "VAL: 3, NEXT: 8\n",
      "VAL: 8, NEXT: 7\n",
      "VAL: 7, NEXT: 6\n",
      "VAL: 6, NEXT: 10\n",
      "VAL: 10, NEXT: 9\n",
      "VAL: 9, NEXT: None\n"
     ]
    }
   ],
   "source": [
    "def reverse_group(ll, size):\n",
    "    stack = []\n",
    "    new_list = None\n",
    "    new_list_first = None\n",
    "    count = 0\n",
    "    while ll:\n",
    "        count += 1\n",
    "        stack.append(ll)\n",
    "        ll_next = ll.next\n",
    "        if count % size == 0:\n",
    "            while stack:\n",
    "                this = stack.pop()\n",
    "                if new_list_first is None:\n",
    "                    new_list_first = this\n",
    "                if new_list:\n",
    "                    new_list.next = this\n",
    "                new_list = this\n",
    "        ll = ll_next\n",
    "                \n",
    "    while stack:\n",
    "        this = stack.pop()\n",
    "        if new_list_first is None:\n",
    "            new_list_first = this\n",
    "        if new_list:\n",
    "            new_list.next = this\n",
    "        new_list = this\n",
    "    \n",
    "    new_list.next = None\n",
    "    \n",
    "    return new_list_first\n",
    "\n",
    "def test_reverse_group():\n",
    "    ll = create_list(11)\n",
    "    print_list(ll)\n",
    "    print('--------')\n",
    "    reversed_ll = reverse_group(ll, 3)\n",
    "    print_list(reversed_ll)\n",
    "\n",
    "test_reverse_group()"
   ]
  },
  {
   "cell_type": "code",
   "execution_count": null,
   "metadata": {},
   "outputs": [],
   "source": []
  }
 ],
 "metadata": {
  "kernelspec": {
   "display_name": "Python 3",
   "language": "python",
   "name": "python3"
  },
  "language_info": {
   "codemirror_mode": {
    "name": "ipython",
    "version": 3
   },
   "file_extension": ".py",
   "mimetype": "text/x-python",
   "name": "python",
   "nbconvert_exporter": "python",
   "pygments_lexer": "ipython3",
   "version": "3.6.4"
  }
 },
 "nbformat": 4,
 "nbformat_minor": 2
}
