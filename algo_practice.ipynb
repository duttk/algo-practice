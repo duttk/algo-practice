{
 "cells": [
  {
   "cell_type": "markdown",
   "metadata": {},
   "source": [
    "## Linked Lists"
   ]
  },
  {
   "cell_type": "code",
   "execution_count": 1,
   "metadata": {},
   "outputs": [],
   "source": [
    "# Linked List class\n",
    "class Node(object):\n",
    "    def __init__(self, val):\n",
    "        self.val = val\n",
    "        self.next = None"
   ]
  },
  {
   "cell_type": "code",
   "execution_count": 4,
   "metadata": {},
   "outputs": [],
   "source": [
    "# Print the list\n",
    "def print_list(node):\n",
    "    while node:\n",
    "        print(node.val)\n",
    "        node = node.next"
   ]
  },
  {
   "cell_type": "code",
   "execution_count": 6,
   "metadata": {},
   "outputs": [],
   "source": [
    "# Reverse the list\n",
    "def reverse_list(node):\n",
    "    prev = None\n",
    "    while node:\n",
    "        next_node = node.next\n",
    "        node.next = prev\n",
    "        prev = node\n",
    "        node = next_node\n",
    "    \n",
    "    return prev"
   ]
  },
  {
   "cell_type": "markdown",
   "metadata": {},
   "source": [
    "### Questions\n",
    "\n",
    "1. Remove duplicates from unsorted Linked List\n",
    "    * Hash Table - Keep track of all elements (Time - O(n), Space - O(n) )\n",
    "    * Two pointers - For each node, run to end and remove duplicates. (Time - O(n2), Space - None )\n",
    "\n",
    "2. Kth to last element in Linked list\n",
    "    * If size is known, iterate size - k times\n",
    "    * If size is not known, get size and iterage size - k times.\n",
    "    * Two pointers - move one pointer k steps forward, then move both until first pointer is at end\n",
    "\n",
    "3. Delete a node from the middle, with only access to that node\n",
    "    * copy the contents of the next node and delete the next node (Won't work if its the last node)\n",
    "\n",
    "4. Partiotion a linked list so that all nodes < x come before x and everything else comes after\n",
    "    * Create two new linked lists for less than and greater than and merge\n",
    "\n",
    "5. Sum numbers represented as linked lists\n",
    "\n",
    "6. Check if a linked list is a palindrome\n",
    "    * Push the first half of the list onto a stack. For the rest, iterate and compare to top of stack. (Take care of odd numbered lists. Skip the middle element)\n",
    "    * Create a new list as a reverse of the original\n",
    "\n",
    "7. Check if two linked lists intersect\n",
    "    * Run each list to end, check if the last node is the same\n",
    "    * Reset the pointers, determine the difference in lengths, chop off the longer list, advance both pointers until they are the same.\n",
    "\n",
    "8. Check if a linked list has a loop\n",
    "    * Two pointers, fast and slow. If they don't meet and the fast one runs to end, there is no loop."
   ]
  },
  {
   "cell_type": "markdown",
   "metadata": {},
   "source": [
    "## Trees and Graphs"
   ]
  },
  {
   "cell_type": "code",
   "execution_count": 8,
   "metadata": {},
   "outputs": [],
   "source": [
    "# Graph node class\n",
    "class GraphNode(object):\n",
    "    def __init__(self, val):\n",
    "        self.val = val\n",
    "        self.children = []"
   ]
  },
  {
   "cell_type": "code",
   "execution_count": 22,
   "metadata": {},
   "outputs": [],
   "source": [
    "# Recursive DFS implementation\n",
    "def dfs(node, visited=set()):\n",
    "    if node is None:\n",
    "        return\n",
    "    \n",
    "    print(node.val)\n",
    "    visited.add(node)\n",
    "    \n",
    "    for child in node.children:\n",
    "        if not child in visited:\n",
    "            dfs(child, visited)"
   ]
  },
  {
   "cell_type": "code",
   "execution_count": 43,
   "metadata": {},
   "outputs": [],
   "source": [
    "# Iterative DFS implementation with stack\n",
    "def dfs_iterative(node):\n",
    "    to_visit = [node]\n",
    "    visited = set()\n",
    "    while to_visit:\n",
    "        current = to_visit.pop()\n",
    "        if current in visited:\n",
    "            continue\n",
    "            \n",
    "        print(current.val)\n",
    "        visited.add(current)\n",
    "        to_visit.extend(current.children)"
   ]
  },
  {
   "cell_type": "code",
   "execution_count": 54,
   "metadata": {},
   "outputs": [],
   "source": [
    "# Iterative BFS implementation with queue\n",
    "from queue import Queue\n",
    "def bfs(node):\n",
    "    to_visit = Queue()\n",
    "    to_visit.put(node)\n",
    "    marked = []\n",
    "    \n",
    "    while not to_visit.empty():\n",
    "        next_node = to_visit.get_nowait()\n",
    "        print(next_node.val)\n",
    "        \n",
    "        for child in next_node.children:\n",
    "            if child in marked:\n",
    "                continue\n",
    "            \n",
    "            marked.append(child)\n",
    "            to_visit.put(child)"
   ]
  },
  {
   "cell_type": "code",
   "execution_count": 12,
   "metadata": {},
   "outputs": [],
   "source": [
    "# Level order traversal of binary tree\n",
    "from queue import Queue\n",
    "def level_order(node):\n",
    "    to_visit = Queue()\n",
    "    to_visit.put(node)\n",
    "    \n",
    "    while not to_visit.empty():\n",
    "        # keep track of the next level\n",
    "        # later assign to_visit to next level\n",
    "        next_level = queue()\n",
    "        for node in to_visit:\n",
    "            if node.left:\n",
    "                next_level.put(node.left)\n",
    "            \n",
    "            if node.right:\n",
    "                next_level.put(node.right)\n",
    "                \n",
    "            print(node.val)\n",
    "        \n",
    "        to_visit = next_level"
   ]
  },
  {
   "cell_type": "markdown",
   "metadata": {},
   "source": [
    "## Questions           "
   ]
  },
  {
   "cell_type": "markdown",
   "metadata": {},
   "source": [
    "1. Merge two binary trees (merge_binary_trees) (Time - O(m) where m is the min of two nodes, Space - O(m))\n",
    "    * Merge the left and right subtree for both\n",
    "    * If either node does not exist for any tree, return the other node.\n",
    "    * If both nodes exist, add the contents of the nodes"
   ]
  },
  {
   "cell_type": "code",
   "execution_count": 1,
   "metadata": {},
   "outputs": [],
   "source": [
    "def merge_binary_trees(t1, t2):\n",
    "    if t1 is None:\n",
    "        return t2\n",
    "    if t2 is None:\n",
    "        return t1\n",
    "    \n",
    "    t1.val += t2.val\n",
    "    t1.left = merge_binary_tree(t1.left, t2.left)\n",
    "    t1.right = merge_binary_tree(t1.right, t2.right)\n",
    "    \n",
    "    return t1"
   ]
  },
  {
   "cell_type": "markdown",
   "metadata": {},
   "source": [
    "2. Invert a binary tree left, right (invert_tree) (Time - O(n), Space - O(n))\n",
    "    * Invert the left binary tree, assign to right\n",
    "    * Invert the right binary tree, assign to left"
   ]
  },
  {
   "cell_type": "code",
   "execution_count": 1,
   "metadata": {},
   "outputs": [],
   "source": [
    "def invert_tree(root):\n",
    "    if root is None:\n",
    "        return None\n",
    "\n",
    "    root.left, root.right = invertTree(root.left), invertTree(root.right)\n",
    "    return root"
   ]
  },
  {
   "cell_type": "markdown",
   "metadata": {},
   "source": [
    "3. Diameter of binary tree (diameter_binary_tree) (Time, Space - O(n))\n",
    "    * While calculating the depth of a tree, keep track of the max diameter\n",
    "    * diameter = max depth of left subtree + max depth of right subtree - 1 (Because we count the root twice)"
   ]
  },
  {
   "cell_type": "code",
   "execution_count": 5,
   "metadata": {},
   "outputs": [],
   "source": [
    "def depth(node, diameter=0):\n",
    "    if not node: return 0, 0\n",
    "    L, _ = depth(node.left)\n",
    "    R, _ = depth(node.right)\n",
    "    diameter = max(diameter, L+R-1)\n",
    "    return max(L, R) + 1, diameter\n",
    "\n",
    "def diameter_binary_tree(root):\n",
    "    depth, diameter = depth(root)\n",
    "    return diameter - 1"
   ]
  },
  {
   "cell_type": "markdown",
   "metadata": {},
   "source": [
    "4. Check if a tree is symmetric (is_symmetric) (Time, Space - O(n))\n",
    "    * A tree is symmetric if the left subtree is a mirror reflection of the right subtree\n",
    "    * Two trees are a mirror reflection of each other if:\n",
    "        + Their two roots have the same value.\n",
    "        + The right subtree of each tree is a mirror reflection of the left subtree of the other tree.\n",
    "        + The left subtree of each tree is a mirror reflection of the right subtree of the other tree."
   ]
  },
  {
   "cell_type": "code",
   "execution_count": 9,
   "metadata": {},
   "outputs": [],
   "source": [
    "def is_symmetric(root):\n",
    "    return is_mirror(root, root)\n",
    "\n",
    "def is_mirror(root, other):\n",
    "    if root is None and other is None:\n",
    "        return True\n",
    "    if root is None or other is None:\n",
    "        return False\n",
    "    \n",
    "    if root.val is not other.val:\n",
    "        return False\n",
    "    \n",
    "    return (\n",
    "        is_mirror(root.left, other.right)\n",
    "        and is_mirror(root.right, other.left)\n",
    "    )"
   ]
  },
  {
   "cell_type": "markdown",
   "metadata": {},
   "source": [
    "5. Check if a tree is a subtree of another tree (Time - O(mn), Space - O(n) where n = nodes in main tree)\n",
    "    * If the value is the same, check if the entire tree is the same\n",
    "    * Else check if the second tree is subtree of either left or right subtree"
   ]
  },
  {
   "cell_type": "code",
   "execution_count": 7,
   "metadata": {},
   "outputs": [],
   "source": [
    "def is_same(s, t):\n",
    "    if s is None and t is None:\n",
    "        return True\n",
    "\n",
    "    if s is None or t is None:\n",
    "        return False\n",
    "\n",
    "    if not s.val == t.val:\n",
    "        return False \n",
    "\n",
    "    return (\n",
    "        is_same(s.left, t.left)\n",
    "        and is_same(s.right, t.right)\n",
    "    )\n",
    "\n",
    "def isSubtree(s, t):\n",
    "    if s is None and t is None:\n",
    "        return True\n",
    "\n",
    "    if s is None or t is None:\n",
    "        return False\n",
    "\n",
    "    if s.val == t.val:\n",
    "        if is_same(s, t):\n",
    "            return True\n",
    "\n",
    "    return(isSubtree(s.left, t) or isSubtree(s.right, t))"
   ]
  },
  {
   "cell_type": "code",
   "execution_count": 10,
   "metadata": {},
   "outputs": [],
   "source": [
    "def flatten_binary_tree(node):\n",
    "    pass"
   ]
  },
  {
   "cell_type": "markdown",
   "metadata": {},
   "source": [
    "7. Construct tree from preorder and inorder elements (construct_binary_tree) (Time - O(n), Space - O(n))\n",
    "    * The first element in preorder is the root\n",
    "    * From this get the index of the root in the inorder flow\n",
    "    * Everything left of this index belongs left subtree\n",
    "    * Everything right of this belongs to right subtree"
   ]
  },
  {
   "cell_type": "code",
   "execution_count": 11,
   "metadata": {},
   "outputs": [],
   "source": [
    "def construct_binary_tree(node):\n",
    "    if not inorder:\n",
    "            return None\n",
    "        \n",
    "    root_val = preorder[0]\n",
    "    root = TreeNode(root_val)\n",
    "    root_inorder_index = inorder.index(root_val)\n",
    "    left_inorder_elements = inorder[:root_inorder_index]\n",
    "    right_inorder_elements = inorder[root_inorder_index + 1:]\n",
    "\n",
    "    right_inorder_first = 1 + len(left_inorder_elements)\n",
    "\n",
    "    left_preorder_elements = preorder[1:right_inorder_first]\n",
    "    right_preorder_elements = preorder[right_inorder_first:]\n",
    "\n",
    "    root.left = self.buildTree(left_preorder_elements, left_inorder_elements)\n",
    "    root.right = self.buildTree(right_preorder_elements, right_inorder_elements)\n",
    "\n",
    "    return root"
   ]
  },
  {
   "cell_type": "markdown",
   "metadata": {},
   "source": [
    "8. Check if a route exists between two nodes (Check route exists) (Time - O(n))\n",
    "    * DFS, check if current node is desired"
   ]
  },
  {
   "cell_type": "code",
   "execution_count": 13,
   "metadata": {},
   "outputs": [],
   "source": [
    "def traverse(node, visited=set()):\n",
    "    assert node is not None\n",
    "    yield node\n",
    "    visited.add(node)\n",
    "    \n",
    "    for child in node.childre:\n",
    "        if child in visited:\n",
    "            continue\n",
    "\n",
    "def check_route_exist(node1, node2):\n",
    "    assert node1 is not None\n",
    "    assert node2 is not None\n",
    "    \n",
    "    for node in traverse(node1):\n",
    "        if node == node2:\n",
    "            return True\n",
    "    \n",
    "    return False"
   ]
  },
  {
   "cell_type": "markdown",
   "metadata": {},
   "source": [
    "9. Create minimum BST from sorted array (create_bst) (Time - O(n), Space - O(n))\n",
    "    * Divide the array in half\n",
    "    * put the mid element in root\n",
    "    * create left subtree from left elements\n",
    "    * create right subtree from right elements\n",
    "    * return pointer to root"
   ]
  },
  {
   "cell_type": "code",
   "execution_count": 14,
   "metadata": {},
   "outputs": [],
   "source": [
    "def create_bst(arr, start=0, end=-1):\n",
    "    if end < start:\n",
    "        return None\n",
    "    \n",
    "    mid = len(arr)/2\n",
    "    new_node = Node(arr[mid])\n",
    "    new_node.left = create_bst(arr, 0, mid-1)\n",
    "    new_node.right = create_bst(arr, mid, -1)\n",
    "    \n",
    "    return new_node"
   ]
  },
  {
   "cell_type": "markdown",
   "metadata": {},
   "source": [
    "10. Create linked list from binary tree (creat_linked_list)\n",
    "    * In order traverse, append nodes to last"
   ]
  },
  {
   "cell_type": "code",
   "execution_count": 15,
   "metadata": {},
   "outputs": [],
   "source": [
    "def create_linked_list(node):\n",
    "    prev = None\n",
    "    first_node = None\n",
    "    \n",
    "    for t_node in traverse(node):\n",
    "        l_node = ListNode(t_node.val)\n",
    "        if prev_node is None:\n",
    "            first_node = l_node\n",
    "            continue\n",
    "        \n",
    "        prev_node.next = l_node\n",
    "        prev_node = l_node\n",
    "        \n",
    "    prev_node.next = None\n",
    "    return first_node    "
   ]
  },
  {
   "cell_type": "markdown",
   "metadata": {},
   "source": [
    "11. Max height of a binary tree (max_height) (Time - O(logn))\n",
    "    * Max height of left subtree, Max height of rigth subtree\n",
    "    * Max of above\n",
    "    * Iterative - traverse level order, keep track of level count"
   ]
  },
  {
   "cell_type": "code",
   "execution_count": 16,
   "metadata": {},
   "outputs": [],
   "source": [
    "def height(node):\n",
    "    if node is None:\n",
    "        return 0\n",
    "    \n",
    "    return max(\n",
    "        height(node.left),\n",
    "        height(node.right)\n",
    "    ) + 1"
   ]
  },
  {
   "cell_type": "markdown",
   "metadata": {},
   "source": [
    "12. Check if binary tree is balanced\n",
    "    * A balanced binary tree is defined as a tree whose left & right subtree differ by a max of 1\n",
    "    * Recursivey check if height difference is more than 1"
   ]
  },
  {
   "cell_type": "code",
   "execution_count": 21,
   "metadata": {},
   "outputs": [],
   "source": [
    "def check_height(node):\n",
    "    if node is None:\n",
    "        return 0\n",
    "    \n",
    "    left_height = check_height(node.left)\n",
    "    if left_height == -1:\n",
    "        return -1\n",
    "    \n",
    "    right_height = check_height(node.right)\n",
    "    if right_height == -1:\n",
    "        return -1\n",
    "    \n",
    "    height_diff = left_height - right_height\n",
    "    if abs(height_diff) > 1:\n",
    "        return -1\n",
    "    \n",
    "    return max(left_height, right_height) + 1\n",
    "\n",
    "def is_balanced(node):\n",
    "    assert node is not None\n",
    "    if check_height == -1:\n",
    "        return False\n",
    "\n",
    "    return True"
   ]
  },
  {
   "cell_type": "markdown",
   "metadata": {},
   "source": [
    "13. First common ancestor (first_common_ancestor) (Time - O(n))\n",
    "    * Check if two nodes are on the same side, if so, go down that road\n",
    "    * Else current node is ancestor\n",
    "    * Utility to check if a node covers another node"
   ]
  },
  {
   "cell_type": "code",
   "execution_count": 23,
   "metadata": {},
   "outputs": [],
   "source": [
    "def covers(node, node1):\n",
    "    if node is None:\n",
    "        return False\n",
    "    if node == node1:\n",
    "        return True\n",
    "    return (\n",
    "        covers(node.left, node1)\n",
    "        or covers(node.right, node1)\n",
    "    )\n",
    "\n",
    "def first_common_ancestor(root, p, q):\n",
    "    if root is None:\n",
    "        return None\n",
    "    \n",
    "    if root == p:\n",
    "        return p\n",
    "    \n",
    "    if root == q:\n",
    "        return q\n",
    "    \n",
    "    p_on_left = covers(root.left, p)\n",
    "    q_on_left = covers(root.left, q)\n",
    "    \n",
    "    if not (p_on_left == q_on_left):\n",
    "        return root\n",
    "    \n",
    "    child_side = root.left if p_on_left else root.right\n",
    "    \n",
    "    return first_common_ancestor(child_side, p, q)"
   ]
  },
  {
   "cell_type": "markdown",
   "metadata": {},
   "source": [
    "13. First common ancestor (first_common_ancestor) (Time - O(n))\n",
    "    * If one of them is the root, that is the LCA\n",
    "    * Find the LCA of p and q with the left and right nodes\n",
    "    * If they have different LCAs then root is LCA\n",
    "    * If both are None, return None\n",
    "    * Else, If one of them is None, return the other"
   ]
  },
  {
   "cell_type": "code",
   "execution_count": null,
   "metadata": {},
   "outputs": [],
   "source": [
    "def lowest_common_ancestor(root, p, q):\n",
    "    if root is None:\n",
    "        return None\n",
    "    \n",
    "    if root == p or root == q:\n",
    "        return root\n",
    "    \n",
    "    left_common = lowest_common_ancestor(root.left, p, q)\n",
    "    right_common = lowest_common_ancestor(root.right, p, q)\n",
    "    \n",
    "    if left_common is not None and right_common is not None:\n",
    "        return root\n",
    "    elif left_common is None and right_common is None:\n",
    "        return None\n",
    "    else:\n",
    "        if left_common is None:\n",
    "            return right_common\n",
    "        \n",
    "        return left_common"
   ]
  },
  {
   "cell_type": "markdown",
   "metadata": {},
   "source": [
    "14. Check subtree (check_subtree)\n",
    "    * Check if one tree is a subtree of another\n",
    "    * If a node matches the root of the subtree check if the rest of the tree is the same"
   ]
  },
  {
   "cell_type": "code",
   "execution_count": 24,
   "metadata": {},
   "outputs": [],
   "source": [
    "def match_tree(node1, node2):\n",
    "    if node1 is None and node2 is None:\n",
    "        return True\n",
    "    if not node1.data == node2.data:\n",
    "        return False\n",
    "    \n",
    "    return(\n",
    "        match_tree(node1.left, node2.left)\n",
    "        and match_tree(node1.right, node2.right)\n",
    "    )\n",
    "\n",
    "def check_subtree(node1, node2):\n",
    "    # Big tree ran out and child not found\n",
    "    if node1 is None:\n",
    "        return False \n",
    "    \n",
    "    if node1.data == node2.data:\n",
    "        if match_tree(node1, node2):\n",
    "            return True\n",
    "        \n",
    "    return(\n",
    "        is_subtree(node1.left, node2.left)\n",
    "        and is_subtree(node1.right, node2.right)\n",
    "    )"
   ]
  },
  {
   "cell_type": "markdown",
   "metadata": {},
   "source": [
    "15. Print all root to leaf paths(print_root_to_leaf)\n",
    "    * Recurse downward from root keep track of each value down\n",
    "    * If we reach a leaf, print\n",
    "    * Else recurse left and right"
   ]
  },
  {
   "cell_type": "code",
   "execution_count": 25,
   "metadata": {},
   "outputs": [],
   "source": [
    "def is_leaf(node):\n",
    "    if node.left is None and node.right is None:\n",
    "        return True\n",
    "    return False\n",
    "\n",
    "def print_root_to_leaf(root, paths_arr):\n",
    "    if root is None:\n",
    "        return\n",
    "    \n",
    "    paths_arr.append(root.val)\n",
    "    \n",
    "    if is_leaf(root):\n",
    "        print_path(root, paths_arr)\n",
    "        \n",
    "    print_root_to_leaf(root.left, paths_arr)\n",
    "    print_root_to_leaf(root.right, paths_arr)\n",
    "    \n",
    "    paths_arr.pop()"
   ]
  },
  {
   "cell_type": "markdown",
   "metadata": {},
   "source": [
    "16. Diagonal traverse (diagonal_traverse)\n",
    "    * Keep track of distance of node from rightmost diagonal\n",
    "    * A node that branches left from its parent is + 1 level from parent\n",
    "    * A node that branches right is same level as parent\n",
    "    * Keep track of all nodes of same level in a dict"
   ]
  },
  {
   "cell_type": "code",
   "execution_count": 28,
   "metadata": {},
   "outputs": [],
   "source": [
    "def print_levels(level_map):\n",
    "    for level in level_map:\n",
    "        print(nodes)\n",
    "\n",
    "def diagonal_traverse(root, level_map, level=1):\n",
    "    if root is None:\n",
    "        return\n",
    "    \n",
    "    if not level in level_map:\n",
    "        level_map[level] = []\n",
    "    level_map[level].append(root)\n",
    "    \n",
    "    diagonal_traverse(root.left, level_map, level+1)\n",
    "    diagonal_traverse(root.right, level_map, level)"
   ]
  },
  {
   "cell_type": "code",
   "execution_count": 104,
   "metadata": {},
   "outputs": [],
   "source": [
    "def isValidBST(root, left=float('-inf'), right=float('inf')):\n",
    "    if not root:\n",
    "        return True\n",
    "    if root.val >= right or root.val <= left:\n",
    "        return False\n",
    "    return (\n",
    "        isValidBST(root.left, left, min(right, root.val)) \n",
    "        and isValidBST(root.right, max(left, root.val), right)\n",
    "    )\n",
    "\n",
    "def inOrder(root, output):\n",
    "    if root is None:\n",
    "        return\n",
    "\n",
    "    inOrder(root.left, output)\n",
    "    output.append(root.val)\n",
    "    inOrder(root.right, output)\n",
    "\n",
    "def isValidBST(root):\n",
    "    output = []\n",
    "    inOrder(root, output)\n",
    "\n",
    "    for i in range(1, len(output)):\n",
    "        if output[i-1] >= output[i]:\n",
    "            return False\n",
    "\n",
    "    return True"
   ]
  },
  {
   "cell_type": "code",
   "execution_count": 167,
   "metadata": {},
   "outputs": [],
   "source": [
    "class Heap(object):\n",
    "    def __init__(self):\n",
    "        self.heaplist = []\n",
    "        \n",
    "    def __len__(self):\n",
    "        return len(self.heaplist)\n",
    "    \n",
    "    def __getitem__(self, idx):\n",
    "        return self.heaplist[idx]\n",
    "    \n",
    "    def add(self, item):\n",
    "        self.heaplist.append(item)\n",
    "        self._heapify_up(len(self.heaplist) - 1)\n",
    "    \n",
    "    def _heapify_up(self, idx):\n",
    "        if self.heaplist[idx] < self.heaplist[idx//2]:\n",
    "            self.heaplist[idx], self.heaplist[idx//2] = self.heaplist[idx//2], self.heaplist[idx]\n",
    "            self._heapify_up(idx//2)\n",
    "        \n",
    "    def _get_min_child(self, idx):\n",
    "        if ((idx * 2) + 2) > len(self.heaplist) - 1:\n",
    "            return (idx * 2) + 1\n",
    "        else:\n",
    "            if self.heaplist[(idx * 2) + 1] < self.heaplist[(idx * 2) + 2]:\n",
    "                return (idx * 2) + 1\n",
    "            return (idx * 2) + 2\n",
    "    \n",
    "    def _heapify_down(self, idx):\n",
    "        min_child = self._get_min_child(idx)\n",
    "        if self.heaplist[idx] > self.heaplist[min_child]:\n",
    "            self.heaplist[idx], self.heaplist[min_child] = self.heaplist[min_child], self.heaplist[idx]\n",
    "            if not min_child*2 + 1 > len(self.heaplist) - 1:\n",
    "                self._heapify_down(min_child)\n",
    "    \n",
    "    def del_min(self):\n",
    "        last_element = self.heaplist.pop()\n",
    "        self.heaplist[0] = last_element\n",
    "        self._heapify_down(0)\n",
    "        "
   ]
  },
  {
   "cell_type": "code",
   "execution_count": 135,
   "metadata": {},
   "outputs": [
    {
     "name": "stdout",
     "output_type": "stream",
     "text": [
      "True\n",
      "True\n"
     ]
    }
   ],
   "source": [
    "def _is_min_heap(L, i):\n",
    "    l, r = 2 * i + 1, 2 * i + 2\n",
    "\n",
    "    if r < len(L): # has left and right children\n",
    "        if L[l] < L[i] or L[r] < L[i]: # heap property is violated\n",
    "            return False\n",
    "\n",
    "        # check both children trees\n",
    "        return _is_min_heap(L, l) and _is_min_heap(L, r)\n",
    "    elif l < len(L): # only has left children\n",
    "        if L[l] < L[i]: # heap property is violated\n",
    "            return False\n",
    "\n",
    "        # check left children tree\n",
    "        return _is_min_heap(L, l)\n",
    "    else: # has no children\n",
    "        return True\n",
    "\n",
    "print(_is_min_heap([-1, 1, 3, 5, 7], 0))\n",
    "print(_is_min_heap([1, 5, 3, 7], 0))"
   ]
  },
  {
   "cell_type": "code",
   "execution_count": 139,
   "metadata": {},
   "outputs": [
    {
     "name": "stdout",
     "output_type": "stream",
     "text": [
      "True\n",
      "True\n",
      "True\n",
      "True\n",
      "True\n",
      "[-1, 1, 3, 5, 7]\n",
      "0\n",
      "1\n",
      "1\n",
      "3\n",
      "True\n",
      "[1, 5, 3, 7]\n",
      "0\n",
      "2\n",
      "True\n",
      "[3, 5, 7]\n",
      "0\n",
      "1\n",
      "True\n",
      "[5, 7]\n"
     ]
    }
   ],
   "source": [
    "a = Heap()\n",
    "a.add(3)\n",
    "print(_is_min_heap(a, 0))\n",
    "a.add(5)\n",
    "print(_is_min_heap(a, 0))\n",
    "a.add(7)\n",
    "print(_is_min_heap(a, 0))\n",
    "a.add(1)\n",
    "print(_is_min_heap(a, 0))\n",
    "a.add(-1)\n",
    "print(_is_min_heap(a, 0))\n",
    "print(a.heaplist)\n",
    "a.del_min()\n",
    "print(_is_min_heap(a, 0))\n",
    "print(a.heaplist)\n",
    "a.del_min()\n",
    "print(_is_min_heap(a, 0))\n",
    "print(a.heaplist)\n",
    "a.del_min()\n",
    "print(_is_min_heap(a, 0))\n",
    "print(a.heaplist)"
   ]
  },
  {
   "cell_type": "code",
   "execution_count": 166,
   "metadata": {},
   "outputs": [],
   "source": [
    "def is_3_dim(num):\n",
    "    factors = set()\n",
    "    factor_count = 0\n",
    "    num_root = math.sqrt(num)\n",
    "    i = 2\n",
    "    while i < num_root:\n",
    "        n = 1\n",
    "        while True:\n",
    "            power_of_i = pow(i, n)\n",
    "            if num % power_of_i == 0:\n",
    "                factor_count += 1\n",
    "                n += 1\n",
    "            else:\n",
    "                break\n",
    "        \n",
    "        if factor_count >= 3:\n",
    "            return True\n",
    "        i += 1\n",
    "    \n",
    "    return False"
   ]
  },
  {
   "cell_type": "code",
   "execution_count": 3,
   "metadata": {},
   "outputs": [
    {
     "data": {
      "text/plain": [
       "5"
      ]
     },
     "execution_count": 3,
     "metadata": {},
     "output_type": "execute_result"
    }
   ],
   "source": [
    "        1\n",
    "      1   1\n",
    "    1   2   1\n",
    "  1   3   3   1\n",
    "1   4   6   4   1"
   ]
  },
  {
   "cell_type": "code",
   "execution_count": 1,
   "metadata": {},
   "outputs": [
    {
     "name": "stdout",
     "output_type": "stream",
     "text": [
      "[1]\n",
      "[1, 1]\n",
      "[1, 2, 1]\n",
      "[1, 3, 3, 1]\n",
      "[1, 4, 6, 4, 1]\n",
      "[1, 5, 10, 10, 5, 1]\n",
      "[1, 6, 15, 20, 15, 6, 1]\n"
     ]
    },
    {
     "data": {
      "text/plain": [
       "[1, 7, 21, 35, 35, 21, 7, 1]"
      ]
     },
     "execution_count": 1,
     "metadata": {},
     "output_type": "execute_result"
    }
   ],
   "source": [
    "def pas(n):\n",
    "    if n == 1:\n",
    "        return [1]\n",
    "    \n",
    "    aux = []\n",
    "    prev = pas(n - 1)\n",
    "    cur_arr = prev[1:]\n",
    "    print(prev)\n",
    "    for idx, num in enumerate(cur_arr):\n",
    "        aux.append(cur_arr[idx] + cur_arr[idx - 1])\n",
    "    aux = [1] + aux + [1]\n",
    "    return aux\n",
    "\n",
    "pas(8)"
   ]
  },
  {
   "cell_type": "code",
   "execution_count": 14,
   "metadata": {},
   "outputs": [],
   "source": [
    "# Split n from end and divide \n",
    "# Reverse both arrays\n",
    "# Reverse the whole array\n",
    "def rotate_array_left(arr, n):\n",
    "    first, second = arr[:n], arr[n:]\n",
    "    rev_first = list(reversed(first))\n",
    "    rev_second = list(reversed(second))\n",
    "    combined = rev_first + rev_second\n",
    "    rev_combined = list(reversed(combined))\n",
    "    return rev_combined\n",
    "\n",
    "def rotate_array_right(arr, n):\n",
    "    first, second = arr[:-n], arr[-n:]\n",
    "    rev_first = list(reversed(first))\n",
    "    rev_second = list(reversed(second))\n",
    "    combined = rev_first + rev_second\n",
    "    rev_combined = list(reversed(combined))\n",
    "    return rev_combined"
   ]
  },
  {
   "cell_type": "code",
   "execution_count": 15,
   "metadata": {},
   "outputs": [],
   "source": [
    "array = [1, 2, 3, 4, 5, 6]\n",
    "assert rotate_array_right(array, 1) == [6, 1, 2, 3, 4, 5]\n",
    "assert rotate_array_right(array, 2) == [5, 6, 1, 2, 3, 4]\n",
    "assert rotate_array_right(array, 3) == [4, 5, 6, 1, 2, 3]\n",
    "assert rotate_array_right(array, 4) == [3, 4, 5, 6, 1, 2]\n",
    "assert rotate_array_right(array, 5) == [2, 3, 4, 5, 6, 1]\n",
    "assert rotate_array_right(array, 6) == [1, 2, 3, 4, 5, 6]"
   ]
  },
  {
   "cell_type": "code",
   "execution_count": 37,
   "metadata": {},
   "outputs": [],
   "source": [
    "def helper(arr, start, end, num):\n",
    "    if start >= end:\n",
    "        if arr[end] == num:\n",
    "            return end\n",
    "        if arr[end] > num:\n",
    "            return end + 1\n",
    "        \n",
    "        return end - 1\n",
    "    \n",
    "    mid = (start + end)//2 \n",
    "    print(mid)\n",
    "    \n",
    "    if num == arr[mid]:\n",
    "        print('EQUAL')\n",
    "        return mid\n",
    "    if num > arr[mid]:\n",
    "        print('RIGHT')\n",
    "        start = mid + 1\n",
    "        return helper(arr, start, end, num)\n",
    "    else:\n",
    "        print('LEFT')\n",
    "        end = mid - 1\n",
    "        return helper(arr, start, end, num)\n",
    "        \n",
    "\n",
    "def get_insert_postion(arr, num):\n",
    "    end = len(arr) - 1\n",
    "    return helper(arr, 0, end, num)"
   ]
  },
  {
   "cell_type": "code",
   "execution_count": 41,
   "metadata": {},
   "outputs": [
    {
     "name": "stdout",
     "output_type": "stream",
     "text": [
      "2\n",
      "RIGHT\n",
      "4\n",
      "LEFT\n",
      "POS: 2\n"
     ]
    }
   ],
   "source": [
    "arr = [2, 3, 5, 7, 9, 10]\n",
    "num = 8\n",
    "pos = get_insert_postion(arr, num)\n",
    "print('POS: ' + str(pos))"
   ]
  },
  {
   "cell_type": "code",
   "execution_count": 42,
   "metadata": {},
   "outputs": [],
   "source": [
    "def bin_search(arr, elem):\n",
    "    i = 0\n",
    "    j = len(arr) - 1\n",
    "    \n",
    "    while i <= j:\n",
    "        mid = (i + j)//2\n",
    "        \n",
    "        if elem > arr[mid]:\n",
    "            i = mid + 1\n",
    "        elif elem < arr[mid]:\n",
    "            j = mid - 1\n",
    "        else:\n",
    "            return mid\n",
    "    \n",
    "    return None"
   ]
  },
  {
   "cell_type": "code",
   "execution_count": 44,
   "metadata": {},
   "outputs": [],
   "source": [
    "arr = [1, 3, 4, 6, 7, 9, 10]\n",
    "assert bin_search(arr, 1) == 0\n",
    "assert bin_search(arr, 3) == 1\n",
    "assert bin_search(arr, 4) == 2\n",
    "assert bin_search(arr, 6) == 3\n",
    "assert bin_search(arr, 7) == 4\n",
    "assert bin_search(arr, 9) == 5\n",
    "assert bin_search(arr, 10) == 6\n",
    "assert bin_search(arr, 0) == None\n",
    "assert bin_search(arr, 11) == None"
   ]
  },
  {
   "cell_type": "code",
   "execution_count": 49,
   "metadata": {},
   "outputs": [],
   "source": [
    "def max_continous_increasing(nums):\n",
    "    max_continuous = 1\n",
    "    current_continous = 1\n",
    "    i = 1\n",
    "\n",
    "    while i < len(nums):\n",
    "        if nums[i] > nums[i - 1]:\n",
    "            current_continous += 1\n",
    "            max_continuous = max(max_continuous, current_continous)\n",
    "        else:\n",
    "            current_continous = 1\n",
    "\n",
    "        i += 1\n",
    "    \n",
    "    return max_continuous"
   ]
  },
  {
   "cell_type": "code",
   "execution_count": 51,
   "metadata": {},
   "outputs": [],
   "source": [
    "assert max_continous_increasing([1,3,5,4,7]) == 3\n",
    "assert max_continous_increasing([2,2,2,2,2]) == 1\n",
    "assert max_continous_increasing([1,3,4,6,7,8,10]) == 7\n",
    "assert max_continous_increasing([4,3,2,1]) == 1\n",
    "assert max_continous_increasing([1,3,5,6,4,1,2,3]) == 4\n",
    "assert max_continous_increasing([1,3,5,3,4,1,2,3,4]) == 4"
   ]
  },
  {
   "cell_type": "code",
   "execution_count": 54,
   "metadata": {},
   "outputs": [],
   "source": [
    "import string\n",
    "def valid_palindrome(s):\n",
    "    allowed = set(list(string.ascii_lowercase))\n",
    "    s = list(s.lower())\n",
    "    i = 0\n",
    "    j = len(s) - 1\n",
    "    \n",
    "    while i < j:\n",
    "        while not s[i].isalnum() and i < j:\n",
    "            i += 1\n",
    "        while not s[j].isalnum() and i < j:\n",
    "            j -= 1\n",
    "        \n",
    "        if not s[i] == s[j]:\n",
    "            return False\n",
    "        \n",
    "        i += 1\n",
    "        j -= 1\n",
    "    \n",
    "    return True\n",
    "\n",
    "assert valid_palindrome(\"A man, a plan, a canal: Panama\") == True\n",
    "assert valid_palindrome(\"race a car\") == False"
   ]
  },
  {
   "cell_type": "code",
   "execution_count": 90,
   "metadata": {},
   "outputs": [],
   "source": [
    "def spiral_print(matrix):\n",
    "    \n",
    "    r_start = 0\n",
    "    r_end = len(matrix) - 1\n",
    "    c_start = 0\n",
    "    c_end = len(matrix[0]) - 1\n",
    "    \n",
    "    results = []\n",
    "    \n",
    "    while r_start < r_end and c_start < c_end:\n",
    "        for i in range(c_start, c_end + 1):\n",
    "            results.append(matrix[r_start][i])\n",
    "        r_start += 1\n",
    "        \n",
    "        for i in range(r_start, r_end + 1):\n",
    "            results.append(matrix[i][c_end])\n",
    "        c_end -= 1\n",
    "        \n",
    "        for i in range(c_end, c_start, -1):\n",
    "            results.append(matrix[r_end][i])\n",
    "        r_end -= 1\n",
    "        \n",
    "        for i in range(r_end + 1, r_start - 1, -1):\n",
    "            results.append(matrix[i][c_start])\n",
    "        c_start += 1\n",
    "    \n",
    "    if r_start == r_end and c_start == c_end:\n",
    "        results.append(matrix[r_start][c_end])\n",
    "    \n",
    "    elif r_start == r_end:\n",
    "        for i in range(c_start, c_end + 1):\n",
    "            results.append(matrix[r_start][i])\n",
    "    \n",
    "    elif c_start == c_end:\n",
    "        for i in range(r_start, r_end + 1):\n",
    "            results.append(matrix[i][c_start])\n",
    "    \n",
    "    return results\n",
    "\n",
    "#spiral_print([[1,2,3],[4,5,6],[7,8,9]])\n",
    "#spiral_print([[1,2,3],[4,5,6]])\n",
    "#spiral_print([[1,2,3],[4,5,6],[7,8,9]])\n",
    "assert spiral_print([[1,2,3],[4,5,6]]) == [1,2,3,6,5,4]\n",
    "assert spiral_print([[1,2,3],[4,5,6],[7,8,9]]) == [1,2,3,6,9,8,7,4,5]\n",
    "assert spiral_print([[1,2],[3,4],[5,6],[7,8]]) == [1,2,4,6,8,7,5,3]"
   ]
  },
  {
   "cell_type": "code",
   "execution_count": 101,
   "metadata": {},
   "outputs": [
    {
     "name": "stdout",
     "output_type": "stream",
     "text": [
      "[1]\n",
      "[1, 1]\n",
      "[1, 2, 1]\n",
      "[1, 3, 3, 1]\n",
      "[1, 4, 6, 4, 1]\n",
      "[1, 5, 10, 10, 5, 1]\n",
      "[1, 6, 15, 20, 15, 6, 1]\n",
      "[1, 7, 21, 35, 35, 21, 7, 1]\n",
      "[1, 8, 28, 56, 70, 56, 28, 8, 1]\n"
     ]
    },
    {
     "data": {
      "text/plain": [
       "[1, 9, 36, 84, 126, 126, 84, 36, 9, 1]"
      ]
     },
     "execution_count": 101,
     "metadata": {},
     "output_type": "execute_result"
    }
   ],
   "source": [
    "'''\n",
    "     1\n",
    "    1 1\n",
    "   1 2 1\n",
    "  1 3 3 1\n",
    " 1 4 6 4 1\n",
    "'''\n",
    "\n",
    "def pascal_redux(k):\n",
    "    if k == 1:\n",
    "        return [1]\n",
    "    \n",
    "    prev_row = pascal_redux(k-1)\n",
    "    print(prev_row)\n",
    "    this_row = []\n",
    "    for i in range(1, len(prev_row)):\n",
    "        this_row.append(prev_row[i] + prev_row[i - 1])\n",
    "    return [1] + this_row + [1]\n",
    "\n",
    "pascal_redux(10)"
   ]
  },
  {
   "cell_type": "code",
   "execution_count": 106,
   "metadata": {},
   "outputs": [],
   "source": [
    "def all_primes(n):\n",
    "     \n",
    "    prime = [True for i in range(n+1)]\n",
    "    p = 2\n",
    "    while (p * p <= n):\n",
    "         \n",
    "        # If prime[p] is not changed, then it is a prime\n",
    "        if (prime[p] == True):\n",
    "             \n",
    "            # Update all multiples of p\n",
    "            for i in range(p * 2, n+1, p):\n",
    "                prime[i] = False\n",
    "        p += 1\n",
    "     \n",
    "    # Print all prime numbers\n",
    "    for p in range(2, n):\n",
    "        if prime[p]:\n",
    "            print(p)"
   ]
  },
  {
   "cell_type": "code",
   "execution_count": 108,
   "metadata": {},
   "outputs": [],
   "source": [
    "def peaks_and_troughs(arr):\n",
    "    # Peaks are indices where arr[i] > arr[i-1] and arr[i] > arr[i+1]\n",
    "    # Troughs are indices where arr[i] < arr[i-1] and arr[i] < arr[i+1]\n",
    "    peaks, troughs = [], []\n",
    "    for i in range(a[1:-1]):\n",
    "        if arr[i] > arr[i-1] and arr[i] > arr[i+1]:\n",
    "            peaks.append(i)\n",
    "        if arr[i] < arr[i-1] and arr[i] < arr[i+1]:\n",
    "            troughs.append(i)\n",
    "    \n",
    "    return peaks, troughs"
   ]
  },
  {
   "cell_type": "code",
   "execution_count": 110,
   "metadata": {},
   "outputs": [],
   "source": [
    "def best_price_stocks(prices):\n",
    "    min_prince = float('inf')\n",
    "    max_profit = 0\n",
    "    for price in prices:\n",
    "        if price < min_price:\n",
    "            min_price = price\n",
    "        elif price - min_price > max_profit:\n",
    "            ma_profit = price - min_price\n",
    "        else:\n",
    "            continue\n",
    "    \n",
    "    return max_profit"
   ]
  },
  {
   "cell_type": "code",
   "execution_count": null,
   "metadata": {},
   "outputs": [],
   "source": []
  }
 ],
 "metadata": {
  "kernelspec": {
   "display_name": "Python 3",
   "language": "python",
   "name": "python3"
  },
  "language_info": {
   "codemirror_mode": {
    "name": "ipython",
    "version": 3
   },
   "file_extension": ".py",
   "mimetype": "text/x-python",
   "name": "python",
   "nbconvert_exporter": "python",
   "pygments_lexer": "ipython3",
   "version": "3.6.4"
  }
 },
 "nbformat": 4,
 "nbformat_minor": 2
}
