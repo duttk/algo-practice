{
 "cells": [
  {
   "cell_type": "markdown",
   "metadata": {},
   "source": [
    "### Questions Stack\n",
    "\n",
    "1. Stack with max/min\n",
    "    * Keep track of the max/min in a new stack. \n",
    "    * If there are duplicates, keep track of the count in the aux stack\n",
    "    * At every push/pop, the top of stack represents the max/min\n",
    "<img src=\"stackmax.png\">\n",
    "\n",
    "2. Evalute reverse polish notation    ((1 + 3) * 2 - 1) => (1,3,+,2,1,-)\n",
    "    * If, token == numer, push to stack\n",
    "    * If token == operator, pop last two numbers, evaluate with operator, push to stack\n",
    "    * Finally, element at top of stack is result\n",
    "<img src=\"rpn.png\">   \n",
    "\n",
    "3. Check if parantheses are ordered/matched\n",
    "    * If an opening character is found, add to stack\n",
    "    * Else, if stack is empty, return False\n",
    "    * Else, if top of stack is not matching return false\n",
    "\n",
    "### Questions Queue\n",
    "1. Implement Queue with two stacks\n",
    "    * Use one for enqueue, another for dequeue\n",
    "    * Enqueue -> Just push to enqueue stack\n",
    "    * Dequeue -> If dequeue stack is empty, while enqueue not empty, pop and push to dequeu stack. Then pop deque and return element.\n",
    "   \n",
    "2. Implement Queue with max/min\n",
    "    * Use a separate ds to track max. This ds will store max elements from left to right.\n",
    "    * To enqueue -> While there are elements in ds < new elements, remove them. Add new element to leftmost position.\n",
    "    * To dequeue -> If leftmost element = removed element, remove it from the ds.\n",
    "    \n",
    "<img src=\"queuemax.png\">"
   ]
  },
  {
   "cell_type": "code",
   "execution_count": null,
   "metadata": {},
   "outputs": [],
   "source": []
  }
 ],
 "metadata": {
  "kernelspec": {
   "display_name": "Python 3",
   "language": "python",
   "name": "python3"
  },
  "language_info": {
   "codemirror_mode": {
    "name": "ipython",
    "version": 3
   },
   "file_extension": ".py",
   "mimetype": "text/x-python",
   "name": "python",
   "nbconvert_exporter": "python",
   "pygments_lexer": "ipython3",
   "version": "3.6.4"
  }
 },
 "nbformat": 4,
 "nbformat_minor": 2
}
