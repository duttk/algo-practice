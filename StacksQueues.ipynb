{
 "cells": [
  {
   "cell_type": "markdown",
   "metadata": {},
   "source": [
    "### Questions Stack\n",
    "\n",
    "1. Stack with max/min\n",
    "    * Keep track of the max/min in a new stack. \n",
    "    * If there are duplicates, keep track of the count in the aux stack\n",
    "    * At every push/pop, the top of stack represents the max/min\n",
    "<img src=\"stackmax.png\">\n",
    "\n",
    "2. Evalute reverse polish notation    ((1 + 3) * 2 - 1) => (1,3,+,2,1,-)\n",
    "    * If, token == numer, push to stack\n",
    "    * If token == operator, pop last two numbers, evaluate with operator, push to stack\n",
    "    * Finally, element at top of stack is result\n",
    "<img src=\"rpn.png\">   \n",
    "\n",
    "3. Check if parantheses are ordered/matched\n",
    "    * If an opening character is found, add to stack\n",
    "    * Else, if stack is empty, return False\n",
    "    * Else, if top of stack is not matching return false\n",
    "\n",
    "4. Normalize pathnames\n",
    "    * split by '/'\n",
    "    * If element is '.' or '' ignore\n",
    "    * If element is .., pop from stack\n",
    "    * If element is anything else, push to stack \n",
    "   \n",
    "5. Expression Evaluation\n",
    "    1. While there are still tokens to be read in,\n",
    "       1.1 Get the next token.\n",
    "       1.2 If the token is:\n",
    "           1.2.1 A number: push it onto the value stack.\n",
    "           1.2.2 A variable: get its value, and push onto the value stack.\n",
    "           1.2.3 A left parenthesis: push it onto the operator stack.\n",
    "           1.2.4 A right parenthesis:\n",
    "             1 While the thing on top of the operator stack is not a \n",
    "               left parenthesis,\n",
    "                 1 Pop the operator from the operator stack.\n",
    "                 2 Pop the value stack twice, getting two operands.\n",
    "                 3 Apply the operator to the operands, in the correct order.\n",
    "                 4 Push the result onto the value stack.\n",
    "             2 Pop the left parenthesis from the operator stack, and discard it.\n",
    "           1.2.5 An operator (call it thisOp):\n",
    "             1 While the operator stack is not empty, and the top thing on the\n",
    "               operator stack has the same or greater precedence as thisOp,\n",
    "               1 Pop the operator from the operator stack.\n",
    "               2 Pop the value stack twice, getting two operands.\n",
    "               3 Apply the operator to the operands, in the correct order.\n",
    "               4 Push the result onto the value stack.\n",
    "             2 Push thisOp onto the operator stack.\n",
    "    2. While the operator stack is not empty,\n",
    "        1 Pop the operator from the operator stack.\n",
    "        2 Pop the value stack twice, getting two operands.\n",
    "        3 Apply the operator to the operands, in the correct order.\n",
    "        4 Push the result onto the value stack.\n",
    "    3. At this point the operator stack should be empty, and the value\n",
    "       stack should have only one value in it, which is the final result.\n",
    "\n",
    "### Questions Queue\n",
    "1. Implement Queue with two stacks\n",
    "    * Use one for enqueue, another for dequeue\n",
    "    * Enqueue -> Just push to enqueue stack\n",
    "    * Dequeue -> If dequeue stack is empty, while enqueue not empty, pop and push to dequeu stack. Then pop deque and return element.\n",
    "   \n",
    "2. Implement Queue with max/min\n",
    "    * Use a separate ds to track max. This ds will store max elements from left to right.\n",
    "    * To enqueue -> While there are elements in ds < new elements, remove them. Add new element to leftmost position.\n",
    "    * To dequeue -> If leftmost element = removed element, remove it from the ds.\n",
    "    \n",
    "<img src=\"queuemax.png\">"
   ]
  },
  {
   "cell_type": "markdown",
   "metadata": {},
   "source": [
    "#### Queue with two stacks"
   ]
  },
  {
   "cell_type": "code",
   "execution_count": 1,
   "metadata": {},
   "outputs": [],
   "source": [
    "class Queue:\n",
    "    def __init__(self):\n",
    "        self._enq, self._deq = [], []\n",
    "\n",
    "    def enqueue(self, x):\n",
    "\n",
    "        self._enq.append(x)\n",
    "\n",
    "    def dequeue(self):\n",
    "\n",
    "        if not self._deq:\n",
    "         # Transfers the elements in _enq to _deq.\n",
    "             while self._enq:\n",
    "                self._deq.append(self._enq.pop())\n",
    "\n",
    "        if not self._deq:  # _deq is still empty!\n",
    "            raise IndexError('empty queue')\n",
    "        return self._deq.pop()"
   ]
  },
  {
   "cell_type": "markdown",
   "metadata": {},
   "source": [
    "#### Sort a stack"
   ]
  },
  {
   "cell_type": "code",
   "execution_count": 2,
   "metadata": {},
   "outputs": [
    {
     "name": "stdout",
     "output_type": "stream",
     "text": [
      "[1, 2, 3, 5]\n"
     ]
    }
   ],
   "source": [
    "def stack_sort(stack):\n",
    "    if not stack:\n",
    "        return\n",
    "    \n",
    "    temp = stack.pop()\n",
    "    stack_sort(stack)\n",
    "    sorted_insert(stack, temp)\n",
    "\n",
    "def sorted_insert(stack, element):\n",
    "    if not stack or element > stack[-1]:\n",
    "        stack.append(element)\n",
    "        return\n",
    "    \n",
    "    temp = stack.pop()\n",
    "    sorted_insert(stack, element)\n",
    "    stack.append(temp)\n",
    "    \n",
    "stack = [5, 3, 2, 1]\n",
    "stack_sort(stack)\n",
    "print(stack)"
   ]
  },
  {
   "cell_type": "markdown",
   "metadata": {},
   "source": [
    "#### Next Greater Element"
   ]
  },
  {
   "cell_type": "code",
   "execution_count": 3,
   "metadata": {},
   "outputs": [
    {
     "name": "stdout",
     "output_type": "stream",
     "text": [
      "[13, 21, -1, -1]\n",
      "[13, 21, -1, -1]\n"
     ]
    }
   ],
   "source": [
    "def next_greater_element(arr):\n",
    "    stack = [arr[0]]\n",
    "    results = []\n",
    "    \n",
    "    for next_element in arr[1:]:\n",
    "        if not stack or next_element < stack[-1]:\n",
    "            stack.append(next_element)\n",
    "            continue\n",
    "\n",
    "        while stack and next_element > stack[-1]:\n",
    "            results.append(next_element)\n",
    "            stack.pop()\n",
    "        \n",
    "        stack.append(next_element)\n",
    "    \n",
    "    while stack:\n",
    "        results.append(-1)\n",
    "        stack.pop()\n",
    "    \n",
    "    return results\n",
    "            \n",
    "elements = [11, 13, 21, 3]\n",
    "print([13, 21, -1, -1])\n",
    "print(next_greater_element(elements))"
   ]
  },
  {
   "cell_type": "code",
   "execution_count": 4,
   "metadata": {},
   "outputs": [
    {
     "name": "stdout",
     "output_type": "stream",
     "text": [
      "[3, 3, 3, -1]\n",
      "[3, 3, 3, -1]\n"
     ]
    }
   ],
   "source": [
    "def next_smaller_element(arr):\n",
    "    stack = [arr[0]]\n",
    "    results = []\n",
    "    \n",
    "    for next_element in arr[1:]:\n",
    "        if not stack or next_element > stack[-1]:\n",
    "            stack.append(next_element)\n",
    "            continue\n",
    "            \n",
    "        while stack and next_element < stack[-1]:\n",
    "            results.append(next_element)\n",
    "            stack.pop()\n",
    "        \n",
    "        stack.append(next_element)\n",
    "    \n",
    "    while stack:\n",
    "        results.append(-1)\n",
    "        stack.pop()\n",
    "    \n",
    "    return results\n",
    "            \n",
    "elements = [11, 13, 21, 3]\n",
    "print([3, 3, 3, -1])\n",
    "print(next_smaller_element(elements))"
   ]
  },
  {
   "cell_type": "code",
   "execution_count": null,
   "metadata": {},
   "outputs": [],
   "source": []
  }
 ],
 "metadata": {
  "kernelspec": {
   "display_name": "Python 3",
   "language": "python",
   "name": "python3"
  },
  "language_info": {
   "codemirror_mode": {
    "name": "ipython",
    "version": 3
   },
   "file_extension": ".py",
   "mimetype": "text/x-python",
   "name": "python",
   "nbconvert_exporter": "python",
   "pygments_lexer": "ipython3",
   "version": "3.6.4"
  }
 },
 "nbformat": 4,
 "nbformat_minor": 2
}
