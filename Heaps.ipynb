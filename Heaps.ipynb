{
 "cells": [
  {
   "cell_type": "markdown",
   "metadata": {},
   "source": [
    "## Heaps"
   ]
  },
  {
   "cell_type": "code",
   "execution_count": 4,
   "metadata": {},
   "outputs": [],
   "source": [
    "class Heap(object):\n",
    "    def __init__(self):\n",
    "        self.heaplist = []\n",
    "        \n",
    "    def __len__(self):\n",
    "        return len(self.heaplist)\n",
    "    \n",
    "    def __getitem__(self, idx):\n",
    "        return self.heaplist[idx]\n",
    "    \n",
    "    def add(self, item):\n",
    "        self.heaplist.append(item)\n",
    "        self._heapify_up(len(self.heaplist) - 1)\n",
    "    \n",
    "    def _heapify_up(self, idx):\n",
    "        if self.heaplist[idx] < self.heaplist[idx//2]:\n",
    "            self.heaplist[idx], self.heaplist[idx//2] = self.heaplist[idx//2], self.heaplist[idx]\n",
    "            self._heapify_up(idx//2)\n",
    "        \n",
    "    def _get_min_child(self, idx):\n",
    "        if ((idx * 2) + 2) > len(self.heaplist) - 1:\n",
    "            return (idx * 2) + 1\n",
    "        else:\n",
    "            if self.heaplist[(idx * 2) + 1] < self.heaplist[(idx * 2) + 2]:\n",
    "                return (idx * 2) + 1\n",
    "            return (idx * 2) + 2\n",
    "    \n",
    "    def _heapify_down(self, idx):\n",
    "        min_child = self._get_min_child(idx)\n",
    "        if self.heaplist[idx] > self.heaplist[min_child]:\n",
    "            self.heaplist[idx], self.heaplist[min_child] = self.heaplist[min_child], self.heaplist[idx]\n",
    "            if not min_child*2 + 1 > len(self.heaplist) - 1:\n",
    "                self._heapify_down(min_child)\n",
    "    \n",
    "    def del_min(self):\n",
    "        last_element = self.heaplist.pop()\n",
    "        self.heaplist[0] = last_element\n",
    "        self._heapify_down(0)\n",
    "        "
   ]
  },
  {
   "cell_type": "code",
   "execution_count": 5,
   "metadata": {},
   "outputs": [
    {
     "name": "stdout",
     "output_type": "stream",
     "text": [
      "True\n",
      "True\n"
     ]
    }
   ],
   "source": [
    "def _is_min_heap(L, i):\n",
    "    l, r = 2 * i + 1, 2 * i + 2\n",
    "\n",
    "    if r < len(L): # has left and right children\n",
    "        if L[l] < L[i] or L[r] < L[i]: # heap property is violated\n",
    "            return False\n",
    "\n",
    "        # check both children trees\n",
    "        return _is_min_heap(L, l) and _is_min_heap(L, r)\n",
    "    elif l < len(L): # only has left children\n",
    "        if L[l] < L[i]: # heap property is violated\n",
    "            return False\n",
    "\n",
    "        # check left children tree\n",
    "        return _is_min_heap(L, l)\n",
    "    else: # has no children\n",
    "        return True\n",
    "\n",
    "print(_is_min_heap([-1, 1, 3, 5, 7], 0))\n",
    "print(_is_min_heap([1, 5, 3, 7], 0))"
   ]
  },
  {
   "cell_type": "code",
   "execution_count": 6,
   "metadata": {},
   "outputs": [
    {
     "name": "stdout",
     "output_type": "stream",
     "text": [
      "True\n",
      "True\n",
      "True\n",
      "True\n",
      "True\n",
      "[-1, 1, 3, 5, 7]\n",
      "True\n",
      "[1, 5, 3, 7]\n",
      "True\n",
      "[3, 5, 7]\n",
      "True\n",
      "[5, 7]\n"
     ]
    }
   ],
   "source": [
    "a = Heap()\n",
    "a.add(3)\n",
    "print(_is_min_heap(a, 0))\n",
    "a.add(5)\n",
    "print(_is_min_heap(a, 0))\n",
    "a.add(7)\n",
    "print(_is_min_heap(a, 0))\n",
    "a.add(1)\n",
    "print(_is_min_heap(a, 0))\n",
    "a.add(-1)\n",
    "print(_is_min_heap(a, 0))\n",
    "print(a.heaplist)\n",
    "a.del_min()\n",
    "print(_is_min_heap(a, 0))\n",
    "print(a.heaplist)\n",
    "a.del_min()\n",
    "print(_is_min_heap(a, 0))\n",
    "print(a.heaplist)\n",
    "a.del_min()\n",
    "print(_is_min_heap(a, 0))\n",
    "print(a.heaplist)"
   ]
  },
  {
   "cell_type": "markdown",
   "metadata": {},
   "source": [
    "#### Merge k sorted lists\n",
    "* Create a min heap of size k. Initialise with first element of each array\n",
    "* Repeat while min heap is not empty\n",
    "    * Pop min and add an element from the same array as the popped element\n",
    "    * Add element to results\n",
    "    * If there are no more elements from that array, do nothing"
   ]
  },
  {
   "cell_type": "code",
   "execution_count": 2,
   "metadata": {},
   "outputs": [
    {
     "name": "stdout",
     "output_type": "stream",
     "text": [
      "[]\n"
     ]
    }
   ],
   "source": [
    "def merge_k_sorted_arrays(sorted_arrs):\n",
    "    return []\n",
    "\n",
    "a = [0, 3, 6, 9]\n",
    "b = [2, 4, 5, 7]\n",
    "c = [1, 8, 10]\n",
    "\n",
    "print(merge_k_sorted_arrays([a, b, c]))"
   ]
  },
  {
   "cell_type": "markdown",
   "metadata": {},
   "source": [
    "#### Sort an increasing decreasing array\n",
    "* Reverse the decreasing pieces of the array\n",
    "* Now we have k sorted arrays that need merging\n",
    "    * Use a heap of size k\n",
    "    * get elements form array where it was popped from and add to heap\n",
    "    * if no new elements exists do nothing\n",
    "    \n",
    "#### Sort an almost sorted array\n",
    "* Each number is atmost k distance away\n",
    "* After the first k + 1 numbers have been read, the smallest number in the group is the smallest number\n",
    "    * maintain a rolling heap of size k + 1\n",
    "    * keep popping and adding to result and move to end like a sliding window\n",
    "    \n",
    "#### K closest planets to earth\n",
    "* Each planet is a certain distance away\n",
    "    * maintain max heap of size k\n",
    "    * Keep adding elements, evict elements that are greater than the result\n",
    "    * maintain a rolling heap of size k + 1\n",
    "\n",
    "#### Implement stack using heap\n",
    "* We care about the most recently inserted element\n",
    "    * This element should always be at the top\n",
    "    * So attach a timestamp that can be used as the comparator\n",
    "    * Use a max heap that captures the element with highest timestamp"
   ]
  },
  {
   "cell_type": "markdown",
   "metadata": {},
   "source": []
  }
 ],
 "metadata": {
  "kernelspec": {
   "display_name": "Python 3",
   "language": "python",
   "name": "python3"
  },
  "language_info": {
   "codemirror_mode": {
    "name": "ipython",
    "version": 3
   },
   "file_extension": ".py",
   "mimetype": "text/x-python",
   "name": "python",
   "nbconvert_exporter": "python",
   "pygments_lexer": "ipython3",
   "version": "3.6.4"
  }
 },
 "nbformat": 4,
 "nbformat_minor": 2
}
