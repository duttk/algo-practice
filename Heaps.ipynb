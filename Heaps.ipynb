{
 "cells": [
  {
   "cell_type": "markdown",
   "metadata": {},
   "source": [
    "## Heaps"
   ]
  },
  {
   "cell_type": "code",
   "execution_count": 4,
   "metadata": {},
   "outputs": [],
   "source": [
    "class Heap(object):\n",
    "    def __init__(self):\n",
    "        self.heaplist = []\n",
    "        \n",
    "    def __len__(self):\n",
    "        return len(self.heaplist)\n",
    "    \n",
    "    def __getitem__(self, idx):\n",
    "        return self.heaplist[idx]\n",
    "    \n",
    "    def add(self, item):\n",
    "        self.heaplist.append(item)\n",
    "        self._heapify_up(len(self.heaplist) - 1)\n",
    "    \n",
    "    def _heapify_up(self, idx):\n",
    "        parent = idx//2\n",
    "        if self.heaplist[idx] < self.heaplist[parent]:\n",
    "            self.heaplist[idx], self.heaplist[parent] = self.heaplist[parent], self.heaplist[idx]\n",
    "            self._heapify_up(parent)\n",
    "        \n",
    "    def _get_min_child(self, idx):\n",
    "        if ((idx * 2) + 2) > len(self.heaplist) - 1:\n",
    "            return (idx * 2) + 1\n",
    "        else:\n",
    "            if self.heaplist[(idx * 2) + 1] < self.heaplist[(idx * 2) + 2]:\n",
    "                return (idx * 2) + 1\n",
    "            return (idx * 2) + 2\n",
    "    \n",
    "    def _heapify_down(self, idx):\n",
    "        min_child = self._get_min_child(idx)\n",
    "        if self.heaplist[idx] > self.heaplist[min_child]:\n",
    "            self.heaplist[idx], self.heaplist[min_child] = self.heaplist[min_child], self.heaplist[idx]\n",
    "            if not min_child*2 + 1 > len(self.heaplist) - 1:\n",
    "                self._heapify_down(min_child)\n",
    "    \n",
    "    def del_min(self):\n",
    "        last_element = self.heaplist.pop()\n",
    "        self.heaplist[0] = last_element\n",
    "        self._heapify_down(0)\n",
    "        "
   ]
  },
  {
   "cell_type": "code",
   "execution_count": 5,
   "metadata": {},
   "outputs": [
    {
     "name": "stdout",
     "output_type": "stream",
     "text": [
      "True\n",
      "True\n"
     ]
    }
   ],
   "source": [
    "def _is_min_heap(L, i):\n",
    "    l, r = 2 * i + 1, 2 * i + 2\n",
    "\n",
    "    if r < len(L): # has left and right children\n",
    "        if L[l] < L[i] or L[r] < L[i]: # heap property is violated\n",
    "            return False\n",
    "\n",
    "        # check both children trees\n",
    "        return _is_min_heap(L, l) and _is_min_heap(L, r)\n",
    "    elif l < len(L): # only has left children\n",
    "        if L[l] < L[i]: # heap property is violated\n",
    "            return False\n",
    "\n",
    "        # check left children tree\n",
    "        return _is_min_heap(L, l)\n",
    "    else: # has no children\n",
    "        return True\n",
    "\n",
    "print(_is_min_heap([-1, 1, 3, 5, 7], 0))\n",
    "print(_is_min_heap([1, 5, 3, 7], 0))"
   ]
  },
  {
   "cell_type": "code",
   "execution_count": 6,
   "metadata": {},
   "outputs": [
    {
     "name": "stdout",
     "output_type": "stream",
     "text": [
      "True\n",
      "True\n",
      "True\n",
      "True\n",
      "True\n",
      "[-1, 1, 3, 5, 7]\n",
      "True\n",
      "[1, 5, 3, 7]\n",
      "True\n",
      "[3, 5, 7]\n",
      "True\n",
      "[5, 7]\n"
     ]
    }
   ],
   "source": [
    "a = Heap()\n",
    "a.add(3)\n",
    "print(_is_min_heap(a, 0))\n",
    "a.add(5)\n",
    "print(_is_min_heap(a, 0))\n",
    "a.add(7)\n",
    "print(_is_min_heap(a, 0))\n",
    "a.add(1)\n",
    "print(_is_min_heap(a, 0))\n",
    "a.add(-1)\n",
    "print(_is_min_heap(a, 0))\n",
    "print(a.heaplist)\n",
    "a.del_min()\n",
    "print(_is_min_heap(a, 0))\n",
    "print(a.heaplist)\n",
    "a.del_min()\n",
    "print(_is_min_heap(a, 0))\n",
    "print(a.heaplist)\n",
    "a.del_min()\n",
    "print(_is_min_heap(a, 0))\n",
    "print(a.heaplist)"
   ]
  },
  {
   "cell_type": "markdown",
   "metadata": {},
   "source": [
    "#### Merge k sorted lists\n",
    "* Create a min heap of size k. Initialise with first element of each array\n",
    "* Repeat while min heap is not empty\n",
    "    * Pop min and add an element from the same array as the popped element\n",
    "    * Add element to results\n",
    "    * If there are no more elements from that array, do nothing"
   ]
  },
  {
   "cell_type": "code",
   "execution_count": 1,
   "metadata": {},
   "outputs": [],
   "source": [
    " def merge_sorted_arrays(sorted_arrays):\n",
    " \n",
    "    min_heap = []\n",
    "    # Builds a list of iterators for each array in sorted_arrays.\n",
    "    sorted_arrays_iters = [iter(x) for x in sorted_arrays]\n",
    "\n",
    "    # Puts first element from each iterator in min_heap.\n",
    "    for i, it in enumerate(sorted_arrays_iters):\n",
    "        first_element = next(it, None)\n",
    "        if first_element is not None:\n",
    "            heapq.heappush(min_heap, (first_element, i))\n",
    "\n",
    "    result = []\n",
    "    while min_heap:\n",
    "        smallest_entry, smallest_array_i = heapq.heappop(min_heap)\n",
    "        smallest_array_iter = sorted_arrays_iters[smallest_array_i]\n",
    "        result.append(smallest_entry)\n",
    "        next_element = next(smallest_array_iter, None)\n",
    "        if next_element is not None:\n",
    "            heapq.heappush(min_heap, (next_element, smallest_array_i))\n",
    "    return result"
   ]
  },
  {
   "cell_type": "markdown",
   "metadata": {},
   "source": [
    "#### Implement stack using heap\n",
    "* We care about the most recently inserted element\n",
    "    * This element should always be at the top\n",
    "    * So attach a timestamp that can be used as the comparator\n",
    "    * Use a max heap that captures the element with highest timestamp"
   ]
  },
  {
   "cell_type": "markdown",
   "metadata": {},
   "source": [
    "#### Sort an increasing decreasing array\n",
    "* Reverse the decreasing pieces of the array\n",
    "* Now we have k sorted arrays that need merging\n",
    "    * Use a heap of size k\n",
    "    * get elements form array where it was popped from and add to heap\n",
    "    * if no new elements exists do nothing"
   ]
  },
  {
   "cell_type": "code",
   "execution_count": 2,
   "metadata": {},
   "outputs": [],
   "source": [
    "def sort_k_increasing_decreasing_array(A):\n",
    "    # Decomposes A into a set of sorted arrays.\n",
    "    sorted_subarrays = []\n",
    "    INCREASING, DECREASING = range(2)\n",
    "    subarray_type = INCREASING\n",
    "    start_idx = 0\n",
    "    for i in range(1, len(A) + 1):\n",
    "        if (\n",
    "            i == len(A) # A is ended. Adds the last subarray.\n",
    "            or (A[i - 1] < A[i] and subarray_type == DECREASING)\n",
    "            or (A[i - 1] >= A[i] and subarray_type == INCREASING)\n",
    "        ):\n",
    "            sorted_subarrays.append(A[start_idx:i] if subarray_type ==\n",
    "                                 INCREASING else A[i - 1:start_idx - 1:-1])\n",
    "            start_idx = i\n",
    "            subarray_type = (\n",
    "                DECREASING if subarray_type == INCREASING else INCREASING\n",
    "            )\n",
    "    return merge_sorted_arrays(sorted_subarrays)"
   ]
  },
  {
   "cell_type": "markdown",
   "metadata": {},
   "source": [
    "\n",
    "#### Sort an almost sorted array\n",
    "* Each number is atmost k distance away\n",
    "* After the first k + 1 numbers have been read, the smallest number in the group is the smallest number\n",
    "    * maintain a rolling heap of size k + 1\n",
    "    * keep popping and adding to result and move to end like a sliding window"
   ]
  },
  {
   "cell_type": "code",
   "execution_count": 3,
   "metadata": {},
   "outputs": [],
   "source": [
    "def sort_approximately_sorted_array(sequence, k):\n",
    "\n",
    "    min_heap = []\n",
    "    # Adds the first k elements into min_heap. Stop if there are fewer than k\n",
    "    # elements.\n",
    "    for x in itertools.islice(sequence, k):\n",
    "        heapq.heappush(min_heap, x)\n",
    "\n",
    "    result = []\n",
    "    # For every new element, add it to min_heap and extract the smallest.\n",
    "    for x in sequence:\n",
    "        smallest = heapq.heappushpop(min_heap, x)\n",
    "        result.append(smallest)\n",
    "\n",
    "    # sequence is exhausted, iteratively extracts the remaining elements.\n",
    "    while min_heap:\n",
    "        smallest = heapq.heappop(min_heap)\n",
    "        result.append(smallest)\n",
    "\n",
    "    return result"
   ]
  },
  {
   "cell_type": "markdown",
   "metadata": {},
   "source": [
    "#### K closest planets to earth\n",
    "* Each planet is a certain distance away\n",
    "    * maintain max heap of size k\n",
    "    * Keep adding elements, evict elements that are greater than the result\n",
    "    * maintain a rolling heap of size k + 1"
   ]
  },
  {
   "cell_type": "code",
   "execution_count": null,
   "metadata": {},
   "outputs": [],
   "source": []
  }
 ],
 "metadata": {
  "kernelspec": {
   "display_name": "Python 3",
   "language": "python",
   "name": "python3"
  },
  "language_info": {
   "codemirror_mode": {
    "name": "ipython",
    "version": 3
   },
   "file_extension": ".py",
   "mimetype": "text/x-python",
   "name": "python",
   "nbconvert_exporter": "python",
   "pygments_lexer": "ipython3",
   "version": "3.6.4"
  }
 },
 "nbformat": 4,
 "nbformat_minor": 2
}
