{
 "cells": [
  {
   "cell_type": "markdown",
   "metadata": {},
   "source": [
    "## Recursion"
   ]
  },
  {
   "cell_type": "markdown",
   "metadata": {},
   "source": [
    "1. Tower of Hanoi\n",
    "    * Recursively\n",
    "    * Move n - 1 disks from start to temp using end as temp\n",
    "    * Move 1 disk from start to end\n",
    "    * Move n - 1 disks from temp to end using start as temp\n"
   ]
  },
  {
   "cell_type": "code",
   "execution_count": 1,
   "metadata": {},
   "outputs": [],
   "source": [
    "def move_single(from_, to_):\n",
    "    pass\n",
    "\n",
    "def tower_of_hanoi(n, start, temp, end):\n",
    "    if n == 0:\n",
    "        return\n",
    "    \n",
    "    tower_of_hanoi(n - 1, start, end, temp)\n",
    "    move_single(start, end)\n",
    "    tower_of_hanoi(n - 1, temp, end, start)\n",
    "\n",
    "A = [3, 2, 1]\n",
    "B = []\n",
    "C = []\n",
    "\n",
    "def move(n, start, end, temp):\n",
    "    if n == 0:\n",
    "        return\n",
    "    # move n - 1 disks from source to auxiliary, so they are out of the way\n",
    "    move(n - 1, start, temp, end)\n",
    "\n",
    "    # move the nth disk from source to target\n",
    "    end.append(start.pop())\n",
    "\n",
    "    # move the n - 1 disks that we left on auxiliary onto target\n",
    "    move(n - 1, temp, end, start)\n",
    "\n",
    "# initiate call from source A to target C with auxiliary B\n",
    "move(3, A, C, B)"
   ]
  },
  {
   "cell_type": "markdown",
   "metadata": {},
   "source": [
    "1. N Queens\n"
   ]
  },
  {
   "cell_type": "code",
   "execution_count": 2,
   "metadata": {},
   "outputs": [],
   "source": [
    "def comp(a, b):\n",
    "    return sorted(a) == sorted(b)\n",
    "\n",
    "def n_queens(n):\n",
    "    def solve_n_queens(row):\n",
    "        if row == n:\n",
    "        # All queens are legally placed.\n",
    "            result.append(list(col_placement))\n",
    "            return\n",
    "        for col in range(n):\n",
    "         # Test if a newly placed queen will conflict any earlier queens\n",
    "         # placed before.\n",
    "            if all(\n",
    "                 abs(c - col) not in (0, row - i)\n",
    "                 for i, c in enumerate(col_placement[:row])\n",
    "            ):\n",
    "                col_placement[row] = col\n",
    "                solve_n_queens(row + 1)\n",
    "\n",
    "    result, col_placement = [], [0] * n\n",
    "    solve_n_queens(0)\n",
    "    return result\n",
    " "
   ]
  },
  {
   "cell_type": "markdown",
   "metadata": {},
   "source": [
    "1. Generate permutations\n",
    "    * idx, array, results\n",
    "    * If idx == length of array - 1, then we are done\n",
    "    * For every jdx from idx to len of arr - 1\n",
    "    * Swap idx, and jdx\n",
    "    * permutate idx + 1\n",
    "    * Revert idx and move on\n"
   ]
  },
  {
   "cell_type": "code",
   "execution_count": 5,
   "metadata": {},
   "outputs": [
    {
     "name": "stdout",
     "output_type": "stream",
     "text": [
      "['DUTK', 'DUKT', 'DTUK', 'DTKU', 'DKTU', 'DKUT', 'UDTK', 'UDKT', 'UTDK', 'UTKD', 'UKTD', 'UKDT', 'TUDK', 'TUKD', 'TDUK', 'TDKU', 'TKDU', 'TKUD', 'KUTD', 'KUDT', 'KTUD', 'KTDU', 'KDTU', 'KDUT']\n",
      "24\n"
     ]
    }
   ],
   "source": [
    "def permutations2(idx, start, results):\n",
    "    if idx == len(start) - 1:\n",
    "        results.append(''.join(start))\n",
    "        #results.append(start)\n",
    "        return\n",
    "    \n",
    "    for jdx in range(idx, len(start)):        \n",
    "        start[jdx], start[idx] = start[idx], start[jdx]\n",
    "        permutations2(idx + 1, start, results)\n",
    "        start[idx], start[jdx] = start[jdx], start[idx]\n",
    "\n",
    "results = []\n",
    "start = ['D', 'U', 'T', 'K']\n",
    "permutations2(0, start, results)\n",
    "print(results)\n",
    "print(len(results))"
   ]
  },
  {
   "cell_type": "markdown",
   "metadata": {},
   "source": [
    "1. Generate power set (set of all sets)\n",
    "    * First pick the nuber and add it to the current list\n",
    "    * Recurse the rest of the elements with this number\n",
    "    * Remove the number from the current list\n",
    "    * Recurse with the rest of the numbers"
   ]
  },
  {
   "cell_type": "code",
   "execution_count": 88,
   "metadata": {},
   "outputs": [
    {
     "name": "stdout",
     "output_type": "stream",
     "text": [
      "[[1, 3, 5], [1, 3], [1, 5], [1], [3, 5], [3], [5], []]\n",
      "[[], [1, 3, 5], [1, 3], [1, 5], [1], [3, 5], [3], [5]]\n"
     ]
    }
   ],
   "source": [
    "def power_set(start, idx, current, res):\n",
    "    if idx == len(start):\n",
    "        res.append([x for x in current])\n",
    "        return \n",
    "    \n",
    "    current.append(start[idx])\n",
    "    power_set(start, idx + 1, current, res)\n",
    "    current.pop()\n",
    "    power_set(start, idx + 1, current, res)\n",
    "\n",
    "def power_set2(start, idx, current, res):\n",
    "    if idx > len(start):\n",
    "        return \n",
    "    \n",
    "    res.append([x for x in current])\n",
    "    \n",
    "    for jdx in range(idx, len(start)):        \n",
    "        current.append(start[jdx])\n",
    "        power_set(start, jdx + 1, current, res)\n",
    "        current.pop()\n",
    "\n",
    "start = [1, 3, 5]\n",
    "res = []\n",
    "power_set(start, 0, [], res)\n",
    "print(res)\n",
    "start = [1, 3, 5]\n",
    "res = []\n",
    "power_set2(start, 0, [], res)\n",
    "print(res)"
   ]
  },
  {
   "cell_type": "markdown",
   "metadata": {},
   "source": [
    "1. Generate power set with duplicates in array(set of all sets). Result should not have duplicates.\n",
    "    * First sort the numbers\n",
    "    * Same as above\n",
    "    * If a number is duplicated, then skip it and continue"
   ]
  },
  {
   "cell_type": "code",
   "execution_count": 91,
   "metadata": {},
   "outputs": [
    {
     "name": "stdout",
     "output_type": "stream",
     "text": [
      "[[], [1], [1, 2], [1, 2, 2], [1, 2, 2, 3], [1, 2, 3], [1, 3], [2], [2, 2], [2, 2, 3], [2, 3], [3]]\n"
     ]
    }
   ],
   "source": [
    "def power_set_duplicates(start, idx, current, res):\n",
    "    if idx > len(start):\n",
    "        return \n",
    "    \n",
    "    res.append([x for x in current])\n",
    "    \n",
    "    for jdx in range(idx, len(start)):\n",
    "        if jdx > idx and start[jdx] == start[jdx - 1]:\n",
    "            continue\n",
    "        \n",
    "        current.append(start[jdx])\n",
    "        power_set_duplicates(start, jdx + 1, current, res)\n",
    "        current.pop()\n",
    "    \n",
    "start = [1, 2, 3, 2]\n",
    "sorted_start = sorted(start)\n",
    "res = []\n",
    "power_set_duplicates(sorted_start, 0, [], res)\n",
    "print(res)"
   ]
  },
  {
   "cell_type": "markdown",
   "metadata": {},
   "source": [
    "1. Subsets of size k\n",
    "    * If we have the size of current = k, then add current to results\n",
    "    * Or if we ran out of numbers to add, return\n",
    "    * Pick this number and recurse\n",
    "    * Don't pick this number and recurse"
   ]
  },
  {
   "cell_type": "code",
   "execution_count": 100,
   "metadata": {},
   "outputs": [
    {
     "name": "stdout",
     "output_type": "stream",
     "text": [
      "[[1, 2], [1, 3], [1, 4], [1, 5], [2, 3], [2, 4], [2, 5], [3, 4], [3, 5], [4, 5]]\n"
     ]
    }
   ],
   "source": [
    "def subsets_of_size_k(start, idx, k, current, res):\n",
    "    if len(current) == k:\n",
    "        res.append([x for x in current])\n",
    "        return\n",
    "    \n",
    "    if idx == len(start):\n",
    "        return\n",
    "    \n",
    "    current.append(start[idx])\n",
    "    subsets_of_size_k(start, idx + 1, k, current, res)\n",
    "    current.pop()\n",
    "    subsets_of_size_k(start, idx + 1, k, current, res)\n",
    "\n",
    "start = [1, 3, 5, 0]\n",
    "start = [1, 2, 3, 4, 5]\n",
    "res = []\n",
    "current = []\n",
    "k = 2\n",
    "subsets_of_size_k(start, 0, k, current, res)\n",
    "print(res)"
   ]
  },
  {
   "cell_type": "markdown",
   "metadata": {},
   "source": [
    "1. Generate parantheses\n",
    "    * Think about this"
   ]
  },
  {
   "cell_type": "code",
   "execution_count": 116,
   "metadata": {},
   "outputs": [
    {
     "name": "stdout",
     "output_type": "stream",
     "text": [
      "['(((())))', '((()()))', '((())())', '((()))()', '(()(()))', '(()()())', '(()())()', '(())(())', '(())()()', '()((()))', '()(()())', '()(())()', '()()(())', '()()()()']\n"
     ]
    }
   ],
   "source": [
    "def generate_params(n, left_added, right_added, current, result):\n",
    "    if len(current) == 2 * n:\n",
    "        result.append(current)\n",
    "        return\n",
    "    \n",
    "    if left_added < n:\n",
    "        generate_params(n, left_added + 1, right_added, current + '(', result)\n",
    "    \n",
    "    if right_added < left_added:\n",
    "        generate_params(n, left_added, right_added + 1, current + ')', result)\n",
    "    \n",
    "res = []\n",
    "current = ''\n",
    "n = 4\n",
    "generate_params(n, 0, 0, current, res)\n",
    "print(res)"
   ]
  },
  {
   "cell_type": "markdown",
   "metadata": {},
   "source": [
    "1. Sudoku solver\n",
    "    * For every blank space in order from 0, 0 -> 8, 8\n",
    "    * Try numbers from 1 -> 9\n",
    "    * Set the number if it is same\n",
    "    * Recurse down and try the next empty number\n",
    "    * If there are no vlaid options return False\n",
    "    * returning False at any point, will trigger backtracking"
   ]
  },
  {
   "cell_type": "code",
   "execution_count": 1,
   "metadata": {},
   "outputs": [
    {
     "name": "stdout",
     "output_type": "stream",
     "text": [
      "[[3, 1, 6, 5, 7, 8, 4, 9, 2],\n",
      " [5, 2, 9, 1, 3, 4, 7, 6, 8],\n",
      " [4, 8, 7, 6, 2, 9, 5, 3, 1],\n",
      " [2, 6, 3, 4, 1, 5, 9, 8, 7],\n",
      " [9, 7, 4, 8, 6, 3, 1, 2, 5],\n",
      " [8, 5, 1, 7, 9, 2, 6, 4, 3],\n",
      " [1, 3, 8, 9, 4, 7, 2, 5, 6],\n",
      " [6, 9, 2, 3, 5, 1, 8, 7, 4],\n",
      " [7, 4, 5, 2, 8, 6, 3, 1, 9]]\n"
     ]
    }
   ],
   "source": [
    " def is_safe(grid, i, j, num):\n",
    "    # If this location has been set, return False\n",
    "    if not grid[i][j] == 0:\n",
    "        return False\n",
    "\n",
    "    # Check if number is in this row\n",
    "    for col in range(9):\n",
    "        if grid[i][col] == num:\n",
    "            return False\n",
    "\n",
    "    # Check if numver is in this col:\n",
    "    for row in range(9):\n",
    "        if grid[row][j] == num:\n",
    "            return False\n",
    "\n",
    "    # Check if number is in this box\n",
    "    row_start = (i // 3) * 3\n",
    "    col_start = (j // 3) * 3\n",
    "    for row in range(row_start, row_start + 3):\n",
    "        for col in range(col_start, col_start + 3):\n",
    "            if grid[row][col] == num:\n",
    "                return False\n",
    "\n",
    "    return True\n",
    "\n",
    "def get_next_empty(grid, cur_x, cur_y):\n",
    "    for idx in range(len(grid)):\n",
    "        for jdx in range(len(grid[0])):\n",
    "            if not grid[idx][jdx]:\n",
    "                return idx, jdx\n",
    "\n",
    "    return None, None\n",
    "\n",
    "def sudoku(grid, i, j):\n",
    "    if all(list(all(grid[i]) for i in range(9))):\n",
    "        return True\n",
    "\n",
    "    for num in range(1, 10):\n",
    "        if not is_safe(grid, i, j, num):\n",
    "            continue\n",
    "\n",
    "        # Try this number\n",
    "        grid[i][j] = num\n",
    "\n",
    "        next_i, next_j = get_next_empty(grid, i, j)\n",
    "        if next_i is None:\n",
    "            return True\n",
    "\n",
    "        if sudoku(grid, next_i, next_j):\n",
    "            return True\n",
    "\n",
    "        # Didn't work out Reset it\n",
    "        grid[i][j] = 0\n",
    "\n",
    "    return False\n",
    "\n",
    "grid = [\n",
    "    [3, 0, 6, 5, 0, 8, 4, 0, 0],\n",
    "    [5, 2, 0, 0, 0, 0, 0, 0, 0],\n",
    "    [0, 8, 7, 0, 0, 0, 0, 3, 1],\n",
    "    [0, 0, 3, 0, 1, 0, 0, 8, 0],\n",
    "    [9, 0, 0, 8, 6, 3, 0, 0, 5],\n",
    "    [0, 5, 0, 0, 9, 0, 6, 0, 0],\n",
    "    [1, 3, 0, 0, 0, 0, 2, 5, 0],\n",
    "    [0, 0, 0, 0, 0, 0, 0, 7, 4],\n",
    "    [0, 0, 5, 2, 0, 6, 3, 0, 0]\n",
    "]\n",
    "\n",
    "i, j = get_next_empty(grid, 0, 0)\n",
    "from pprint import pprint\n",
    "sudoku(grid, i, j)\n",
    "pprint(grid)"
   ]
  },
  {
   "cell_type": "code",
   "execution_count": 7,
   "metadata": {},
   "outputs": [
    {
     "name": "stdout",
     "output_type": "stream",
     "text": [
      "[[3, 1, 6, 5, 7, 8, 4, 9, 2],\n",
      " [5, 2, 9, 1, 3, 4, 7, 6, 8],\n",
      " [4, 8, 7, 6, 2, 9, 5, 3, 1],\n",
      " [2, 6, 3, 4, 1, 5, 9, 8, 7],\n",
      " [9, 7, 4, 8, 6, 3, 1, 2, 5],\n",
      " [8, 5, 1, 7, 9, 2, 6, 4, 3],\n",
      " [1, 3, 8, 9, 4, 7, 2, 5, 6],\n",
      " [6, 9, 2, 3, 5, 1, 8, 7, 4],\n",
      " [7, 4, 5, 2, 8, 6, 3, 1, 9]]\n"
     ]
    }
   ],
   "source": [
    " def is_safe(grid, i, j, num):\n",
    "    # If this location has been set, return False\n",
    "    if not grid[i][j] == 0:\n",
    "        return False\n",
    "\n",
    "    # Check if number is in this row\n",
    "    for col in range(9):\n",
    "        if grid[i][col] == num:\n",
    "            return False\n",
    "\n",
    "    # Check if numver is in this col:\n",
    "    for row in range(9):\n",
    "        if grid[row][j] == num:\n",
    "            return False\n",
    "\n",
    "    # Check if number is in this box\n",
    "    row_start = (i // 3) * 3\n",
    "    col_start = (j // 3) * 3\n",
    "    for row in range(row_start, row_start + 3):\n",
    "        for col in range(col_start, col_start + 3):\n",
    "            if grid[row][col] == num:\n",
    "                return False\n",
    "\n",
    "    return True\n",
    "\n",
    "def get_next_empty(grid, cur_x, cur_y):\n",
    "    for idx in range(len(grid)):\n",
    "        for jdx in range(len(grid[0])):\n",
    "            if not grid[idx][jdx]:\n",
    "                yield idx, jdx\n",
    "\n",
    "def sudoku(grid, i, j):\n",
    "    if all(list(all(grid[i]) for i in range(9))):\n",
    "        return True\n",
    "\n",
    "    for num in range(1, 10):\n",
    "        if not is_safe(grid, i, j, num):\n",
    "            continue\n",
    "\n",
    "        # Try this number\n",
    "        grid[i][j] = num\n",
    "\n",
    "        gen = get_next_empty(grid, i, j)\n",
    "        try:\n",
    "            next_i, next_j = next(gen)\n",
    "        except StopIteration as e:\n",
    "            return True\n",
    "\n",
    "        if sudoku(grid, next_i, next_j):\n",
    "            return True\n",
    "\n",
    "        # Didn't work out Reset it\n",
    "        grid[i][j] = 0\n",
    "\n",
    "    return False\n",
    "\n",
    "grid = [\n",
    "    [3, 0, 6, 5, 0, 8, 4, 0, 0],\n",
    "    [5, 2, 0, 0, 0, 0, 0, 0, 0],\n",
    "    [0, 8, 7, 0, 0, 0, 0, 3, 1],\n",
    "    [0, 0, 3, 0, 1, 0, 0, 8, 0],\n",
    "    [9, 0, 0, 8, 6, 3, 0, 0, 5],\n",
    "    [0, 5, 0, 0, 9, 0, 6, 0, 0],\n",
    "    [1, 3, 0, 0, 0, 0, 2, 5, 0],\n",
    "    [0, 0, 0, 0, 0, 0, 0, 7, 4],\n",
    "    [0, 0, 5, 2, 0, 6, 3, 0, 0]\n",
    "]\n",
    "\n",
    "c = get_next_empty(grid, 0, 0)\n",
    "i, j = next(c)\n",
    "from pprint import pprint\n",
    "sudoku(grid, i, j)\n",
    "pprint(grid)"
   ]
  },
  {
   "cell_type": "code",
   "execution_count": null,
   "metadata": {},
   "outputs": [],
   "source": []
  }
 ],
 "metadata": {
  "kernelspec": {
   "display_name": "Python 3",
   "language": "python",
   "name": "python3"
  },
  "language_info": {
   "codemirror_mode": {
    "name": "ipython",
    "version": 3
   },
   "file_extension": ".py",
   "mimetype": "text/x-python",
   "name": "python",
   "nbconvert_exporter": "python",
   "pygments_lexer": "ipython3",
   "version": "3.6.4"
  }
 },
 "nbformat": 4,
 "nbformat_minor": 2
}
