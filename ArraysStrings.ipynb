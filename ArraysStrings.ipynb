{
 "cells": [
  {
   "cell_type": "markdown",
   "metadata": {},
   "source": [
    "#### Increment an arbitrary integer specified in array\n",
    "    [1, 2, 3] => [1, 2 , 4]\n",
    "    [3, 4, 5, 9] => [3, 4, 6, 0]\n",
    "    [3, 9, 9, 9] => [4, 0, 0, 0]\n",
    "    [9, 9, 9, 9] => [1, 0, 0, 0, 0]\n",
    "    \n",
    "   * Walking backwards, calculate sum and carry. Update the location.\n",
    "   * If carry == 0 at any point, we are done, break"
   ]
  },
  {
   "cell_type": "code",
   "execution_count": 49,
   "metadata": {},
   "outputs": [
    {
     "name": "stdout",
     "output_type": "stream",
     "text": [
      "[1, 2, 4]\n",
      "[3, 4, 6, 0]\n",
      "[4, 0, 0, 0]\n",
      "[1, 0, 0, 0, 0]\n"
     ]
    }
   ],
   "source": [
    "def increment_number(arr):\n",
    "    if all(num == 9 for num in arr):\n",
    "        return [1] + [0] * len(arr)\n",
    "    \n",
    "    i = len(arr) - 1\n",
    "    carry = 0\n",
    "    increment = 1\n",
    "    while i >= 0:\n",
    "        num = arr[i] + increment + carry\n",
    "        increment = 0\n",
    "        carry = num // 10\n",
    "        \n",
    "        if carry == 0:\n",
    "            arr[i] = num\n",
    "            break\n",
    "        \n",
    "        num = num % 10\n",
    "        arr[i] = num\n",
    "        i -= 1\n",
    "    \n",
    "    return arr\n",
    "\n",
    "print(increment_number([1, 2, 3]))\n",
    "print(increment_number([3, 4, 5, 9]))\n",
    "print(increment_number([3, 9, 9, 9]))\n",
    "print(increment_number([9, 9, 9, 9]))"
   ]
  },
  {
   "cell_type": "markdown",
   "metadata": {},
   "source": [
    "#### Can reach end of array \n",
    "   * Walking backwards, check if from an index i, we can reach any good position.\n",
    "   * A good position is one where from where we can reach the end\n",
    "   * At each iteration, change the good position to the current position\n",
    "   * Therefor, every preceding index only needs to reach here\n",
    "   "
   ]
  },
  {
   "cell_type": "code",
   "execution_count": 50,
   "metadata": {},
   "outputs": [
    {
     "name": "stdout",
     "output_type": "stream",
     "text": [
      "True\n",
      "False\n"
     ]
    }
   ],
   "source": [
    "def can_reach_end(arr):\n",
    "    i = len(arr) - 1\n",
    "    need_to_reach_idx = len(arr) - 1\n",
    "    while i >= 0:\n",
    "        if i + arr[i] >= need_to_reach_idx:\n",
    "            # Update the index that needs to be reached\n",
    "            need_to_reach_idx = i\n",
    "        i -= 1\n",
    "    \n",
    "    return need_to_reach_idx == 0\n",
    "        \n",
    "print(can_reach_end([3, 3, 1, 0, 2, 0, 1]))\n",
    "print(can_reach_end([3, 2, 0, 0, 2, 0, 1]))"
   ]
  },
  {
   "cell_type": "markdown",
   "metadata": {},
   "source": [
    "#### Remove duplicate elements and left shift unique numbers from sorted array\n",
    "   * Keep track of the index of the first non unique number\n",
    "   * For every number that is unique copy it to the above index"
   ]
  },
  {
   "cell_type": "code",
   "execution_count": 51,
   "metadata": {},
   "outputs": [
    {
     "name": "stdout",
     "output_type": "stream",
     "text": [
      "[2, 3, 5, 7, 11, 13, 11, 11, 13]\n"
     ]
    }
   ],
   "source": [
    "def uniquify(arr):\n",
    "    # Keep track of where  we need to write the next unique number\n",
    "    insert_idx = 1\n",
    "    for i in range(1, len(arr)):\n",
    "        # If a unique number is encountered\n",
    "        if not arr[i] == arr[i - 1]:\n",
    "            # Write the unique number to the first location that contains a non unique number\n",
    "            arr[insert_idx] = arr[i]\n",
    "            insert_idx += 1        \n",
    "    \n",
    "    return arr\n",
    "        \n",
    "print(uniquify([2,3,5,5,7,11,11,11,13]))"
   ]
  },
  {
   "cell_type": "markdown",
   "metadata": {},
   "source": [
    "#### Buy and sell stock once\n",
    "   * Keep track of min_price, max_profit for each iteration"
   ]
  },
  {
   "cell_type": "code",
   "execution_count": 52,
   "metadata": {},
   "outputs": [
    {
     "name": "stdout",
     "output_type": "stream",
     "text": [
      "0\n",
      "30\n"
     ]
    }
   ],
   "source": [
    "import sys\n",
    "def max_profit(arr):\n",
    "    min_price = sys.maxsize\n",
    "    max_profit = 0\n",
    "    \n",
    "    for num in arr:\n",
    "        min_price = min(min_price, num)\n",
    "        max_profit = max(max_profit, num - min_price)\n",
    "        \n",
    "    return max_profit\n",
    "\n",
    "print(max_profit([310, 310, 275, 275, 260, 260, 260, 230, 230, 230]))\n",
    "print(max_profit([310,315, 275, 295, 260, 270, 290, 230, 255, 250]))"
   ]
  },
  {
   "cell_type": "markdown",
   "metadata": {},
   "source": [
    "#### Return all primes less than or equal to n\n",
    "   * Seive or Eartosthenes\n",
    "   * Keep track of dict of each number and True/False if it is prime/not.\n",
    "   * 0, 1 are not prime\n",
    "   * For each number starting from 2, if it is a prime, remove all its multiples from consideration\n",
    "   * Optimisation:\n",
    "       Start seiving from j^2 instead of j * 2\n",
    "       Since any number of the for k.j where k < j has already been seived out by k\n",
    "       "
   ]
  },
  {
   "cell_type": "code",
   "execution_count": 53,
   "metadata": {},
   "outputs": [
    {
     "name": "stdout",
     "output_type": "stream",
     "text": [
      "{2, 3, 5, 7, 11, 13, 17, 19, 23, 29, 31, 37, 41, 43, 47, 53, 59, 61, 67, 71, 73, 79, 83, 89, 97}\n",
      "{2, 3, 5, 7, 11, 13, 17, 19, 23, 29, 31, 37, 41, 43, 47, 53, 59, 61, 67, 71, 73, 79, 83, 89, 97}\n"
     ]
    }
   ],
   "source": [
    "def list_primes(n):\n",
    "    is_prime = {k: True for k in range(n + 1)}\n",
    "    is_prime[0] = False\n",
    "    is_prime[1] = False\n",
    "    \n",
    "    for i in range(2, n + 1):\n",
    "        if not is_prime[i]:\n",
    "            continue\n",
    "        \n",
    "        for j in range(i * 2, n + 1, i):\n",
    "            is_prime[j] = False\n",
    "    \n",
    "    return set(k for k, v in is_prime.items() if v)\n",
    "\n",
    "print(list_primes(100))\n",
    "\n",
    "def list_primes(n):\n",
    "    is_prime = {k: True for k in range(n + 1)}\n",
    "    is_prime[0] = False\n",
    "    is_prime[1] = False\n",
    "    \n",
    "    for i in range(2, n + 1):\n",
    "        if not is_prime[i]:\n",
    "            continue\n",
    "        \n",
    "        # Note we start seiving from i^2\n",
    "        for j in range(i * i, n + 1, i):\n",
    "            is_prime[j] = False\n",
    "    \n",
    "    return set(k for k, v in is_prime.items() if v)\n",
    "\n",
    "print(list_primes(100))"
   ]
  },
  {
   "cell_type": "markdown",
   "metadata": {},
   "source": [
    "#### Next permutation\n",
    "   * Walk backwards and find a k where arr[k] < arr[k + 1]\n",
    "   * Find smallest p[l] such that p[l] > p[k]\n",
    "   * Swap p[l], p[k]\n",
    "   * Reverse the sequence after p[k]\n",
    "   *     6,2,1,5,4,3,0\n",
    "   *     6,2,1,|5,4,3,0\n",
    "   *     6,2,3,|5,4,1,0\n",
    "   *     6,2,1,|0,1,4,5"
   ]
  },
  {
   "cell_type": "code",
   "execution_count": 75,
   "metadata": {},
   "outputs": [
    {
     "name": "stdout",
     "output_type": "stream",
     "text": [
      "[1, 2, 0, 3]\n",
      "[]\n"
     ]
    }
   ],
   "source": [
    " def next_permutation(perm):\n",
    "     # Find the first entry from the right that is smaller than the entry\n",
    "     # immediately after it.\n",
    "     inversion_point = len(perm) - 2\n",
    "     while (\n",
    "        inversion_point >= 0\n",
    "        and perm[inversion_point] >= perm[inversion_point + 1]\n",
    "     ):\n",
    "         inversion_point -= 1\n",
    "     if inversion_point == -1:\n",
    "         return []  # perm is the last permutation.\n",
    " \n",
    "     # Swap the smallest entry after index inversion_point that is greater than\n",
    "     # perm[inversion_point]. Since entries in perm are decreasing after\n",
    "     # inversion_point, if we search in reverse order, the first entry that is\n",
    "     # greater than perm[inversion_point] is the entry to swap with.\n",
    "     for i in reversed(range(inversion_point + 1, len(perm))):\n",
    "         if perm[i] > perm[inversion_point]:\n",
    "             perm[inversion_point], perm[i] = perm[i], perm[inversion_point]\n",
    "             break\n",
    " \n",
    "     # Entries in perm must appear in decreasing order after inversion_point,\n",
    "     # so we simply reverse these entries to get the smallest dictionary order.\n",
    "     perm[inversion_point + 1:] = reversed(perm[inversion_point + 1:])\n",
    "     return perm\n",
    "\n",
    "print(next_permutation([1,0,3,2]))\n",
    "print(next_permutation([3,2,1,0]))"
   ]
  },
  {
   "cell_type": "markdown",
   "metadata": {},
   "source": [
    "#### Spiral Print Matrix\n",
    "   * ABCD"
   ]
  },
  {
   "cell_type": "code",
   "execution_count": 93,
   "metadata": {},
   "outputs": [
    {
     "name": "stdout",
     "output_type": "stream",
     "text": [
      "[0, 1, 2, 5, 8, 7, 6, 3, 4]\n"
     ]
    }
   ],
   "source": [
    "def spiral_print(matrix):\n",
    "    n = len(matrix)\n",
    "    start_row = 0\n",
    "    end_row = n - 1\n",
    "    start_col = n - 1\n",
    "    end_col = 0\n",
    "    while n > 0:\n",
    "        start = len(matrix) - n\n",
    "        end = n - 2\n",
    "        \n",
    "        for i in range(start, end):\n",
    "            print(matrix[start_row][i])\n",
    "        start_row += 1\n",
    "        \n",
    "        for i in range(start, end):\n",
    "            print(matrix[i][start_col])\n",
    "        start_col -= 1\n",
    "        \n",
    "        start = n - 2\n",
    "        end = len(matrix) - n\n",
    "        \n",
    "        for i in range(start, end):\n",
    "            print(matrix[end_row][i])\n",
    "        end_row -= 1\n",
    "        \n",
    "        for i in range(start, end):\n",
    "            print(matrix[i][end_col])\n",
    "        end_col += 1\n",
    "        \n",
    "        n -= 2\n",
    "    \n",
    "    if not n % 2 == 0:\n",
    "        print(matrix[n//2][n//2])\n",
    "    \n",
    "a = []\n",
    "n = 3\n",
    "for i in range(n):\n",
    "    temp = []\n",
    "    for j in range(n):\n",
    "        temp.append(i * n + j)\n",
    "    a.append(temp)\n",
    "\n",
    "# a = [\n",
    "#     [1, 2, 3, 4, 5],\n",
    "#     [1, 2, 3, 4, 5],\n",
    "#     [1, 2, 3, 4, 5]\n",
    "# ]\n",
    "def spiral_print(square_matrix):\n",
    "    SHIFT = ((0, 1), (1, 0), (0, -1), (-1, 0))\n",
    "    direction = x = y = 0\n",
    "    spiral_ordering = []\n",
    " \n",
    "    for _ in range(len(square_matrix)**2):\n",
    "        spiral_ordering.append(square_matrix[x][y])\n",
    "        square_matrix[x][y] = 0\n",
    "        next_x, next_y = x + SHIFT[direction][0], y + SHIFT[direction][1]\n",
    "        if (\n",
    "            next_x not in range(len(square_matrix))\n",
    "            or next_y not in range(len(square_matrix))\n",
    "            or square_matrix[next_x][next_y] == 0\n",
    "        ):\n",
    "            direction = (direction + 1) & 3\n",
    "            next_x, next_y = x + SHIFT[direction][0], y + SHIFT[direction][1]\n",
    "        x, y = next_x, next_y\n",
    "    return spiral_ordering\n",
    "\n",
    "print(spiral_print(a))"
   ]
  },
  {
   "cell_type": "markdown",
   "metadata": {},
   "source": [
    "#### Rotate a matrix\n",
    "   * ABCDs\n",
    "\n",
    "#### Matrix reflection\n",
    "   * ABCD"
   ]
  },
  {
   "cell_type": "markdown",
   "metadata": {},
   "source": [
    "#### Palindromic string\n",
    "   * Given a string with all kinds of characters, check if it is palindromic\n",
    "   * Maintain two indices and walk forwards if character is non alphanumeric\n",
    "   "
   ]
  },
  {
   "cell_type": "code",
   "execution_count": 1,
   "metadata": {},
   "outputs": [
    {
     "name": "stdout",
     "output_type": "stream",
     "text": [
      "True\n",
      "True\n",
      "False\n"
     ]
    }
   ],
   "source": [
    "import string\n",
    "def palindromic_string(palstring):\n",
    "    alpha_num = string.digits + string.ascii_letters\n",
    "    i = 0\n",
    "    j = len(palstring) - 1\n",
    "    while i < j:\n",
    "        if not palstring[i] in alpha_num:\n",
    "            i += 1\n",
    "            continue\n",
    "        if not palstring[j] in alpha_num:\n",
    "            j -= 1\n",
    "            continue\n",
    "        \n",
    "        if not palstring[i].lower() == palstring[j].lower():\n",
    "            return False\n",
    "        \n",
    "        i += 1\n",
    "        j -= 1\n",
    "    \n",
    "    return True\n",
    "\n",
    "print(palindromic_string('A man, a plan, a canal, Panama.'))\n",
    "print(palindromic_string('Able was I, ere I saw Elba!'))\n",
    "print(palindromic_string('Ray a Ray'))"
   ]
  },
  {
   "cell_type": "markdown",
   "metadata": {},
   "source": [
    "#### Reverse words in a string\n",
    "   * In python, break down by space to a list and reverse join the list\n",
    "   * Without extra space, reverse the full string and then reverse each individual word\n",
    "   * Take extra care to reverse the last word"
   ]
  },
  {
   "cell_type": "markdown",
   "metadata": {},
   "source": [
    "#### Phone number combinations\n",
    "   * In python, break down by space to a list and reverse join the list\n",
    "   * Without extra space, reverse the full string and then reverse each individual word\n",
    "   * Take extra care to reverse the last word"
   ]
  },
  {
   "cell_type": "code",
   "execution_count": 5,
   "metadata": {},
   "outputs": [
    {
     "name": "stdout",
     "output_type": "stream",
     "text": [
      "3888\n"
     ]
    }
   ],
   "source": [
    "def phone_number(ph_number):\n",
    "    ph_map = {\n",
    "        0: '0',\n",
    "        1: '1',\n",
    "        2: 'ABC',\n",
    "        3: 'DEF',\n",
    "        4: 'GHI',\n",
    "        5: 'JKL',\n",
    "        6: 'MNO',\n",
    "        7: 'PQRS',\n",
    "        8: 'TUV',\n",
    "        9: 'WXYZ'\n",
    "    }\n",
    "    return wrapper(str(ph_number), 0, ph_map)\n",
    "\n",
    "def wrapper(ph_number, idx, ph_map):\n",
    "    if idx >= len(ph_number):\n",
    "        return ['']\n",
    "    \n",
    "    this_combs = []\n",
    "    rest = wrapper(ph_number, idx + 1, ph_map)\n",
    "    for choice in ph_map[int(ph_number[idx])]:\n",
    "        for other_choice in rest:\n",
    "            this_combs.append(choice + other_choice)\n",
    "    \n",
    "    return this_combs\n",
    "    \n",
    "print(len(phone_number(2276696)))"
   ]
  },
  {
   "cell_type": "markdown",
   "metadata": {},
   "source": [
    "#### Generate Valid IP addresses from a number\n",
    "   * Recursive\n",
    "       * Choose a number from 1 - 3 digits\n",
    "       * Put a '.' and recursively choose the rest\n",
    "   \n",
    "   * Iterative\n",
    "       * Choose a number from 1 - 3 digits\n",
    "       * Iteratively choose the first, second, third and fourth part\n",
    "       "
   ]
  },
  {
   "cell_type": "code",
   "execution_count": 40,
   "metadata": {},
   "outputs": [
    {
     "name": "stdout",
     "output_type": "stream",
     "text": [
      "1.92.168.11\n",
      "19.2.168.11\n",
      "19.21.68.11\n",
      "19.216.8.11\n",
      "19.216.81.1\n",
      "192.1.68.11\n",
      "192.16.8.11\n",
      "192.16.81.1\n",
      "192.168.1.1\n"
     ]
    }
   ],
   "source": [
    "def valid_ip_addr(ip_number):\n",
    "    ips = helper(ip_number, 0, 3)\n",
    "    print(ips)\n",
    "    final = []\n",
    "    for ip in ips:\n",
    "        ip_split = ip.split('.')\n",
    "        count = 0\n",
    "        for ind in ip_split:\n",
    "            count += len(ind)\n",
    "        \n",
    "        if not count == len(ip_number):\n",
    "            continue\n",
    "        \n",
    "        final.append(ip)\n",
    "            \n",
    "    return final\n",
    "\n",
    "def helper(ip_number, idx, dot_count):\n",
    "    if idx >= len(ip_number) and dot_count > 0:\n",
    "        return []\n",
    "    \n",
    "    if dot_count == 0:\n",
    "        if len(ip_number) - idx > 3:\n",
    "            return []\n",
    "        if len(ip_number) - idx == 3 and int(ip_number[idx:]) > 255:\n",
    "            return []\n",
    "        \n",
    "        return [ip_number[idx:]]\n",
    "    \n",
    "    this_combs = set()\n",
    "    # Pick any of the next 3 letters as long as they don't exceed 255 and recurse on the rest\n",
    "    # Pick one\n",
    "    for num in [1, 2, 3]:\n",
    "        this_num = ip_number[idx: idx + num]\n",
    "        if not this_num:\n",
    "            continue\n",
    "        if int(this_num) > 255:\n",
    "            continue\n",
    "            \n",
    "        if all(x == '0' for x in this_num):\n",
    "            this_num = '0'\n",
    "        else:\n",
    "            this_num = this_num.lstrip('0')\n",
    "        \n",
    "        rest = helper(ip_number, idx + num, dot_count - 1)\n",
    "        for comb in rest:\n",
    "            if not comb:\n",
    "                continue\n",
    "            \n",
    "            if all(x == '0' for x in comb):\n",
    "                comb = '0'\n",
    "            else:\n",
    "                comb = comb.lstrip('0')\n",
    "                \n",
    "            ip = this_num + '.' + comb\n",
    "            \n",
    "            this_combs.add(ip)\n",
    "    \n",
    "    return list(this_combs)\n",
    "\n",
    "def get_valid_ip_address(s):\n",
    "    def is_valid_part(s):\n",
    "     # '00', '000', '01', etc. are not valid, but '0' is valid.\n",
    "     return len(s) == 1 or (s[0] != '0' and int(s) <= 255)\n",
    "\n",
    "    result, parts = [], [None] * 4\n",
    "    for i in range(1, min(4, len(s))):\n",
    "        parts[0] = s[:i]\n",
    "        if is_valid_part(parts[0]):\n",
    "            for j in range(1, min(len(s) - i, 4)):\n",
    "                parts[1] = s[i:i + j]\n",
    "                if is_valid_part(parts[1]):\n",
    "                    for k in range(1, min(len(s) - i - j, 4)):\n",
    "                        parts[2], parts[3] = s[i + j:i + j + k], s[i + j + k:]\n",
    "                        if is_valid_part(parts[2]) and is_valid_part(parts[3]):\n",
    "                            result.append('.'.join(parts))\n",
    "    return result\n",
    "\n",
    "# for ip in valid_ip_addr('19216811'):\n",
    "#     print(ip)\n",
    "for ip in get_valid_ip_address('19216811'):    \n",
    "    print(ip)\n"
   ]
  },
  {
   "cell_type": "markdown",
   "metadata": {},
   "source": [
    "#### Snakestring\n",
    "\n",
    "    Hello World\n",
    "        e                 _               l\n",
    "    H       l        o        W       r       d\n",
    "                l                 o\n",
    "   \n",
    "   e_lHloWrdlo\n",
    "   \n",
    "   * Make 3 iterations \n",
    "   * First, start at index 1, jump by 4\n",
    "   * Second, start at index 0, jump by 2\n",
    "   * Third, start at index 3, jump by 4"
   ]
  },
  {
   "cell_type": "markdown",
   "metadata": {},
   "source": [
    "#### Minimum size subarray sum\n",
    "Given an array of n positive integers and a positive integer s, find the minimal length of a subarray of which the sum ≥ s. If there isn't one, return 0 instead.\n",
    "\n",
    "For example, given the array [2,3,1,2,4,3] and s = 7, the subarray [4,3] has the minimal length of 2 under the problem constraint.\n",
    "    \n",
    "   * Keep track of two stretchy pointers i, j like a sliding window\n",
    "   * while j has not reached end\n",
    "   * Keep track of sum in sliding window\n",
    "   * if sum < target, move j forward - stretch\n",
    "   * Else check if this is min\n",
    "   * move i forward and reduce sum by arr[i]"
   ]
  },
  {
   "cell_type": "markdown",
   "metadata": {},
   "source": []
  }
 ],
 "metadata": {
  "kernelspec": {
   "display_name": "Python 3",
   "language": "python",
   "name": "python3"
  },
  "language_info": {
   "codemirror_mode": {
    "name": "ipython",
    "version": 3
   },
   "file_extension": ".py",
   "mimetype": "text/x-python",
   "name": "python",
   "nbconvert_exporter": "python",
   "pygments_lexer": "ipython3",
   "version": "3.6.4"
  }
 },
 "nbformat": 4,
 "nbformat_minor": 2
}
