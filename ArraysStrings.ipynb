{
 "cells": [
  {
   "cell_type": "markdown",
   "metadata": {},
   "source": [
    "# Arrays and Strings"
   ]
  },
  {
   "cell_type": "markdown",
   "metadata": {},
   "source": [
    "General Approaches\n",
    "\n",
    "Arrays\n",
    "    1. Single pointer\n",
    "        iterate left to right\n",
    "        if condition continues to satisfy \n",
    "            add current element\n",
    "        else\n",
    "            re-evaluate max/min\n",
    "            set current max/min to 1\n",
    "\n",
    "        Examples:\n",
    "            * Max continuous increasing sequence\n",
    "            \n",
    "    2. Two stretchy pointers\n",
    "        Move one forward until condition is satisfied\n",
    "        Move the other while condition is satisfied\n",
    "        Update min/max\n",
    "        \n",
    "        Examples:\n",
    "            * Min length subarray max sum \n",
    "    \n",
    "    3. Start and end pointers\n",
    "        Move left forward\n",
    "        Move right backwards\n",
    "        Good for solving greedy type problems\n",
    "\n",
    "    4. Inplace array modification\n",
    "       move iterator left to right\n",
    "       keep track of insert index\n",
    "       if condition satisfies move element to insert index\n",
    "       increase insert index \n",
    "      \n",
    "    5. Sometimes one forward and one backward iterations can work\n",
    "        If an easy solution involves a stack\n",
    "        Try thinking about a backward iteration\n",
    "    \n",
    "    6. Kadane's algorithm works for max/min susequences\n",
    "        current_max/current_min = sequence[0]\n",
    "        global_max/global_min = sequence[0]\n",
    "        for element in sequence[1:]:\n",
    "            current_max/current_min = max/min(current_max/current_min, element)\n",
    "            global_max/global_min = max/min(global_max/global_min, current_max/current_min)\n",
    "           \n",
    "        return global_max/global_min\n",
    "           "
   ]
  },
  {
   "cell_type": "markdown",
   "metadata": {},
   "source": [
    "#### Increment an arbitrary integer specified in array\n",
    "    [1, 2, 3] => [1, 2 , 4]\n",
    "    [3, 4, 5, 9] => [3, 4, 6, 0]\n",
    "    [3, 9, 9, 9] => [4, 0, 0, 0]\n",
    "    [9, 9, 9, 9] => [1, 0, 0, 0, 0]\n",
    "    \n",
    "   * Walking backwards, calculate sum and carry. Update the location.\n",
    "   * If carry == 0 at any point, we are done, break"
   ]
  },
  {
   "cell_type": "code",
   "execution_count": null,
   "metadata": {},
   "outputs": [],
   "source": [
    "def increment_number(arr):\n",
    "    if all(num == 9 for num in arr):\n",
    "        return [1] + [0] * len(arr)\n",
    "    \n",
    "    i = len(arr) - 1\n",
    "    carry = 0\n",
    "    increment = 1\n",
    "    while i >= 0:\n",
    "        num = arr[i] + increment + carry\n",
    "        increment = 0\n",
    "        carry = num // 10\n",
    "        \n",
    "        if carry == 0:\n",
    "            arr[i] = num\n",
    "            break\n",
    "        \n",
    "        num = num % 10\n",
    "        arr[i] = num\n",
    "        i -= 1\n",
    "    \n",
    "    return arr\n",
    "\n",
    "print(increment_number([1, 2, 3]))\n",
    "print(increment_number([3, 4, 5, 9]))\n",
    "print(increment_number([3, 9, 9, 9]))\n",
    "print(increment_number([9, 9, 9, 9]))"
   ]
  },
  {
   "cell_type": "markdown",
   "metadata": {},
   "source": [
    "#### Can reach end of array \n",
    "   * Walking backwards, check if from an index i, we can reach any good position.\n",
    "   * A good position is one where from where we can reach the end\n",
    "   * At each iteration, change the good position to the current position\n",
    "   * Therefor, every preceding index only needs to reach here\n",
    "   "
   ]
  },
  {
   "cell_type": "code",
   "execution_count": null,
   "metadata": {},
   "outputs": [],
   "source": [
    "def can_reach_end(arr):\n",
    "    i = len(arr) - 1\n",
    "    need_to_reach_idx = len(arr) - 1\n",
    "    while i >= 0:\n",
    "        if i + arr[i] >= need_to_reach_idx:\n",
    "            # Update the index that needs to be reached\n",
    "            need_to_reach_idx = i\n",
    "        i -= 1\n",
    "    \n",
    "    return need_to_reach_idx == 0\n",
    "        \n",
    "print(can_reach_end([3, 3, 1, 0, 2, 0, 1]))\n",
    "print(can_reach_end([3, 2, 0, 0, 2, 0, 1]))"
   ]
  },
  {
   "cell_type": "markdown",
   "metadata": {},
   "source": [
    "#### Remove duplicate elements and left shift unique numbers from sorted array\n",
    "   * Keep track of the index of the first non unique number\n",
    "   * For every number that is unique copy it to the above index"
   ]
  },
  {
   "cell_type": "code",
   "execution_count": 7,
   "metadata": {},
   "outputs": [
    {
     "name": "stdout",
     "output_type": "stream",
     "text": [
      "[2, 3, 5, 7, 11, 13, 11, 11, 13]\n"
     ]
    }
   ],
   "source": [
    "def uniquify(arr):\n",
    "    # Keep track of where  we need to write the next unique number\n",
    "    insert_idx = 1\n",
    "    for i in range(1, len(arr)):\n",
    "        # If a unique number is encountered\n",
    "        if arr[i] == arr[i - 1]:\n",
    "            continue\n",
    "        # Write the unique number to the first location that contains a non unique number\n",
    "        arr[insert_idx] = arr[i]\n",
    "        insert_idx += 1        \n",
    "    \n",
    "    return arr\n",
    "        \n",
    "print(uniquify([2,3,5,5,7,11,11,11,13]))"
   ]
  },
  {
   "cell_type": "markdown",
   "metadata": {},
   "source": [
    "#### Move 0s to end of array\n",
    "   * Keep track of insert index where non 0s need to be copied to\n",
    "   "
   ]
  },
  {
   "cell_type": "code",
   "execution_count": 8,
   "metadata": {},
   "outputs": [
    {
     "name": "stdout",
     "output_type": "stream",
     "text": [
      "[1, 0, 0, 2, 3, 0, 0, 2, 7, 0]\n",
      "[1, 2, 3, 2, 7, 0, 0, 0, 0, 0]\n"
     ]
    }
   ],
   "source": [
    "def move_zeros_to_end(arr):\n",
    "    insert_idx = 0\n",
    "    # Traverse the array. If element  \n",
    "    # encountered is non-zero, then \n",
    "    # replace the element at index \n",
    "    # 'insert_idx' with this element \n",
    "    for idx in range(len(arr)):\n",
    "        if arr[idx] == 0:\n",
    "            continue\n",
    "            \n",
    "        arr[insert_idx] = arr[idx]\n",
    "        insert_idx += 1\n",
    "    # Now all non-zero elements have been \n",
    "    # shifted to front and 'count' is set \n",
    "    # as index of first 0. Make all  \n",
    "    # elements 0 from count to end. \n",
    "    while insert_idx < len(arr): \n",
    "        arr[insert_idx] = 0\n",
    "        insert_idx += 1\n",
    "    \n",
    "    return arr\n",
    "\n",
    "arr = [1, 0, 0, 2,3, 0, 0, 2, 7,0]\n",
    "print(arr)\n",
    "arr = move_zeros_to_end(arr)\n",
    "print(arr)"
   ]
  },
  {
   "cell_type": "markdown",
   "metadata": {},
   "source": [
    "#### Buy and sell stock once\n",
    "   * Keep track of min_price, max_profit for each iteration"
   ]
  },
  {
   "cell_type": "code",
   "execution_count": null,
   "metadata": {},
   "outputs": [],
   "source": [
    "import sys\n",
    "def max_profit(arr):\n",
    "    min_price = sys.maxsize\n",
    "    max_profit = 0\n",
    "    \n",
    "    for num in arr:\n",
    "        min_price = min(min_price, num)\n",
    "        max_profit = max(max_profit, num - min_price)\n",
    "        \n",
    "    return max_profit\n",
    "\n",
    "print(max_profit([310, 310, 275, 275, 260, 260, 260, 230, 230, 230]))\n",
    "print(max_profit([310,315, 275, 295, 260, 270, 290, 230, 255, 250]))"
   ]
  },
  {
   "cell_type": "markdown",
   "metadata": {},
   "source": [
    "#### Return all primes less than or equal to n\n",
    "   * Seive or Eartosthenes\n",
    "   * Keep track of dict of each number and True/False if it is prime/not.\n",
    "   * 0, 1 are not prime\n",
    "   * For each number starting from 2, if it is a prime, remove all its multiples from consideration\n",
    "   * Optimisation:\n",
    "       Start seiving from j^2 instead of j * 2\n",
    "       Since any number of the for k.j where k < j has already been seived out by k\n",
    "       "
   ]
  },
  {
   "cell_type": "code",
   "execution_count": null,
   "metadata": {},
   "outputs": [],
   "source": [
    "def list_primes(n):\n",
    "    is_prime = {k: True for k in range(n + 1)}\n",
    "    is_prime[0] = False\n",
    "    is_prime[1] = False\n",
    "    \n",
    "    for i in range(2, n + 1):\n",
    "        if not is_prime[i]:\n",
    "            continue\n",
    "        \n",
    "        for j in range(i * 2, n + 1, i):\n",
    "            is_prime[j] = False\n",
    "    \n",
    "    return set(k for k, v in is_prime.items() if v)\n",
    "\n",
    "print(list_primes(100))\n",
    "\n",
    "def list_primes(n):\n",
    "    is_prime = {k: True for k in range(n + 1)}\n",
    "    is_prime[0] = False\n",
    "    is_prime[1] = False\n",
    "    \n",
    "    for i in range(2, n + 1):\n",
    "        if not is_prime[i]:\n",
    "            continue\n",
    "        \n",
    "        # Note we start seiving from i^2\n",
    "        for j in range(i * i, n + 1, i):\n",
    "            is_prime[j] = False\n",
    "    \n",
    "    return set(k for k, v in is_prime.items() if v)\n",
    "\n",
    "print(list_primes(100))"
   ]
  },
  {
   "cell_type": "markdown",
   "metadata": {},
   "source": [
    "#### Next permutation\n",
    "   * Walk backwards and find a k where arr[k] < arr[k + 1]\n",
    "   * Find smallest p[l] such that p[l] > p[k]\n",
    "   * Swap p[l], p[k]\n",
    "   * Reverse the sequence after p[k]\n",
    "   *     6,2,1,5,4,3,0\n",
    "   *     6,2,1,|5,4,3,0\n",
    "   *     6,2,3,|5,4,1,0\n",
    "   *     6,2,3,|0,1,4,5"
   ]
  },
  {
   "cell_type": "code",
   "execution_count": null,
   "metadata": {},
   "outputs": [],
   "source": [
    " def next_permutation(perm):\n",
    "     # Find the first entry from the right that is smaller than the entry\n",
    "     # immediately after it.\n",
    "     inversion_point = len(perm) - 2\n",
    "     while (\n",
    "        inversion_point >= 0\n",
    "        and perm[inversion_point] >= perm[inversion_point + 1]\n",
    "     ):\n",
    "         inversion_point -= 1\n",
    "     if inversion_point == -1:\n",
    "         return []  # perm is the last permutation.\n",
    " \n",
    "     # Swap the smallest entry after index inversion_point that is greater than\n",
    "     # perm[inversion_point]. Since entries in perm are decreasing after\n",
    "     # inversion_point, if we search in reverse order, the first entry that is\n",
    "     # greater than perm[inversion_point] is the entry to swap with.\n",
    "     for i in reversed(range(inversion_point + 1, len(perm))):\n",
    "         if perm[i] > perm[inversion_point]:\n",
    "             perm[inversion_point], perm[i] = perm[i], perm[inversion_point]\n",
    "             break\n",
    " \n",
    "     # Entries in perm must appear in decreasing order after inversion_point,\n",
    "     # so we simply reverse these entries to get the smallest dictionary order.\n",
    "     perm[inversion_point + 1:] = reversed(perm[inversion_point + 1:])\n",
    "     return perm\n",
    "\n",
    "print(next_permutation([1,0,3,2]))\n",
    "print(next_permutation([3,2,1,0]))"
   ]
  },
  {
   "cell_type": "markdown",
   "metadata": {},
   "source": [
    "#### Spiral Print Matrix\n",
    "   * ABCD"
   ]
  },
  {
   "cell_type": "code",
   "execution_count": 15,
   "metadata": {},
   "outputs": [
    {
     "name": "stdout",
     "output_type": "stream",
     "text": [
      "1\n",
      "2\n",
      "3\n",
      "4\n",
      "5\n",
      "10\n",
      "15\n",
      "20\n",
      "25\n",
      "23\n",
      "23\n",
      "22\n",
      "21\n",
      "16\n",
      "11\n",
      "6\n",
      "7\n",
      "8\n",
      "9\n",
      "14\n",
      "19\n",
      "18\n",
      "17\n",
      "12\n",
      "13\n"
     ]
    }
   ],
   "source": [
    "def spiral_print_1(matrix):\n",
    "    row_start = 0\n",
    "    row_end = len(matrix) - 1\n",
    "    col_start = 0\n",
    "    col_end = len(matrix[0]) - 1\n",
    "    \n",
    "    while row_start <= row_end and col_start <= col_end:\n",
    "        for i in range(col_start, col_end + 1):\n",
    "            print(matrix[row_start][i])\n",
    "        \n",
    "        for i in range(row_start + 1, row_end + 1):\n",
    "            print(matrix[i][col_end])\n",
    "        \n",
    "        for i in range(col_end - 1, col_start - 1, -1):\n",
    "            print(matrix[row_end][i])\n",
    "        \n",
    "        for i in range(row_end - 1, row_start, -1):\n",
    "            print(matrix[i][col_start])\n",
    "        \n",
    "        row_start += 1\n",
    "        row_end -= 1\n",
    "        col_start += 1\n",
    "        col_end -= 1\n",
    "\n",
    "def spiral_print_rec(matrix, row_start, row_end, col_start, col_end):\n",
    "    if row_start > row_end or col_start > col_end:\n",
    "        return\n",
    "    \n",
    "    for i in range(col_start, col_end + 1):\n",
    "        print(matrix[row_start][i])\n",
    "\n",
    "    for i in range(row_start + 1, row_end + 1):\n",
    "        print(matrix[i][col_end])\n",
    "\n",
    "    for i in range(col_end - 1, col_start - 1, -1):\n",
    "        print(matrix[row_end][i])\n",
    "\n",
    "    for i in range(row_end - 1, row_start, -1):\n",
    "        print(matrix[i][col_start])\n",
    "    \n",
    "    spiral_print_rec(matrix, row_start + 1, row_end - 1, col_start + 1, col_end - 1)\n",
    "        \n",
    "def spiral_print_2(matrix):\n",
    "    row_start = 0\n",
    "    row_end = len(matrix) - 1\n",
    "    col_start = 0\n",
    "    col_end = len(matrix[0]) - 1\n",
    "    \n",
    "    return spiral_print_rec(matrix, row_start, row_end, col_start, col_end)\n",
    "\n",
    "a = [\n",
    "    [1, 2, 3, 4, 5],\n",
    "    [6 , 7, 8, 9, 10],\n",
    "    [11, 12, 13, 14, 15],\n",
    "    [16, 17, 18, 19, 20],\n",
    "    [21, 22 ,23 ,23, 25]\n",
    "]\n",
    "spiral_print_2(a)"
   ]
  },
  {
   "cell_type": "markdown",
   "metadata": {},
   "source": [
    "#### Rotate a matrix\n",
    "   * Transpose the matrix\n",
    "   * Reverse each row\n",
    "\n",
    "#### Matrix reflection\n",
    "   * ABCD"
   ]
  },
  {
   "cell_type": "code",
   "execution_count": 16,
   "metadata": {},
   "outputs": [],
   "source": [
    "def rotate(self, matrix):\n",
    "    def reverse_row(row):\n",
    "        return list(reversed(row))\n",
    "\n",
    "    def transpose(matrix):\n",
    "        for row in range(len(matrix)):\n",
    "            for col in range(row, len(matrix[row])):\n",
    "                matrix[row][col], matrix[col][row] = matrix[col][row], matrix[row][col]\n",
    "\n",
    "        return matrix\n",
    "\n",
    "    transpose(matrix)\n",
    "    for row in range(len(matrix)):\n",
    "        matrix[row] = reverse_row(matrix[row])\n",
    "\n",
    "def rotateMatrix(mat): \n",
    "    # Consider all squares one by one \n",
    "    for x in range(0, int(N/2)): \n",
    "          \n",
    "        # Consider elements in group    \n",
    "        # of N in current square \n",
    "        for y in range(x, N-x-1): \n",
    "              \n",
    "            # store current cell in temp variable \n",
    "            temp = mat[x][y] \n",
    "  \n",
    "            # move values from right to top \n",
    "            mat[x][y] = mat[y][N-1-x] \n",
    "  \n",
    "            # move values from bottom to right \n",
    "            mat[y][N-1-x] = mat[N-1-x][N-1-y] \n",
    "  \n",
    "            # move values from left to bottom \n",
    "            mat[N-1-x][N-1-y] = mat[N-1-y][x] \n",
    "  \n",
    "            # assign temp to left \n",
    "            mat[N-1-y][x] = temp"
   ]
  },
  {
   "cell_type": "markdown",
   "metadata": {},
   "source": [
    "#### Palindromic string\n",
    "   * Given a string with all kinds of characters, check if it is palindromic\n",
    "   * Maintain two indices and walk forwards if character is non alphanumeric\n",
    "   "
   ]
  },
  {
   "cell_type": "code",
   "execution_count": null,
   "metadata": {},
   "outputs": [],
   "source": [
    "import string\n",
    "def palindromic_string(palstring):\n",
    "    alpha_num = string.digits + string.ascii_letters\n",
    "    i = 0\n",
    "    j = len(palstring) - 1\n",
    "    while i < j:\n",
    "        if not palstring[i] in alpha_num:\n",
    "            i += 1\n",
    "            continue\n",
    "        if not palstring[j] in alpha_num:\n",
    "            j -= 1\n",
    "            continue\n",
    "        \n",
    "        if not palstring[i].lower() == palstring[j].lower():\n",
    "            return False\n",
    "        \n",
    "        i += 1\n",
    "        j -= 1\n",
    "    \n",
    "    return True\n",
    "\n",
    "print(palindromic_string('A man, a plan, a canal, Panama.'))\n",
    "print(palindromic_string('Able was I, ere I saw Elba!'))\n",
    "print(palindromic_string('Ray a Ray'))"
   ]
  },
  {
   "cell_type": "markdown",
   "metadata": {},
   "source": [
    "#### Reverse words in a string\n",
    "   * In python, break down by space to a list and reverse join the list\n",
    "   * Without extra space, reverse the full string and then reverse each individual word\n",
    "   * Take extra care to reverse the last word"
   ]
  },
  {
   "cell_type": "markdown",
   "metadata": {},
   "source": [
    "#### Phone number combinations\n",
    "   * In python, break down by space to a list and reverse join the list\n",
    "   * Without extra space, reverse the full string and then reverse each individual word\n",
    "   * Take extra care to reverse the last word"
   ]
  },
  {
   "cell_type": "code",
   "execution_count": 17,
   "metadata": {},
   "outputs": [
    {
     "name": "stdout",
     "output_type": "stream",
     "text": [
      "3888\n"
     ]
    }
   ],
   "source": [
    "def phone_number(ph_number):\n",
    "    ph_map = {\n",
    "        0: '0',\n",
    "        1: '1',\n",
    "        2: 'ABC',\n",
    "        3: 'DEF',\n",
    "        4: 'GHI',\n",
    "        5: 'JKL',\n",
    "        6: 'MNO',\n",
    "        7: 'PQRS',\n",
    "        8: 'TUV',\n",
    "        9: 'WXYZ'\n",
    "    }\n",
    "    return wrapper(str(ph_number), 0, ph_map)\n",
    "\n",
    "def wrapper(ph_number, idx, ph_map):\n",
    "    if idx >= len(ph_number):\n",
    "        return ['']\n",
    "    \n",
    "    this_combs = []\n",
    "    rest = wrapper(ph_number, idx + 1, ph_map)\n",
    "    for choice in ph_map[int(ph_number[idx])]:\n",
    "        for other_choice in rest:\n",
    "            this_combs.append(choice + other_choice)\n",
    "    \n",
    "    return this_combs\n",
    "    \n",
    "print(len(phone_number(2276696)))"
   ]
  },
  {
   "cell_type": "markdown",
   "metadata": {},
   "source": [
    "#### Generate Valid IP addresses from a number\n",
    "   * Recursive\n",
    "       * Choose a number from 1 - 3 digits\n",
    "       * Put a '.' and recursively choose the rest\n",
    "   \n",
    "   * Iterative\n",
    "       * Choose a number from 1 - 3 digits\n",
    "       * Iteratively choose the first, second, third and fourth part\n",
    "       "
   ]
  },
  {
   "cell_type": "code",
   "execution_count": null,
   "metadata": {},
   "outputs": [],
   "source": [
    "def valid_ip_addr(ip_number):\n",
    "    ips = helper(ip_number, 0, 3)\n",
    "    print(ips)\n",
    "    final = []\n",
    "    for ip in ips:\n",
    "        ip_split = ip.split('.')\n",
    "        count = 0\n",
    "        for ind in ip_split:\n",
    "            count += len(ind)\n",
    "        \n",
    "        if not count == len(ip_number):\n",
    "            continue\n",
    "        \n",
    "        final.append(ip)\n",
    "            \n",
    "    return final\n",
    "\n",
    "def helper(ip_number, idx, dot_count):\n",
    "    if idx >= len(ip_number) and dot_count > 0:\n",
    "        return []\n",
    "    \n",
    "    if dot_count == 0:\n",
    "        if len(ip_number) - idx > 3:\n",
    "            return []\n",
    "        if len(ip_number) - idx == 3 and int(ip_number[idx:]) > 255:\n",
    "            return []\n",
    "        \n",
    "        return [ip_number[idx:]]\n",
    "    \n",
    "    this_combs = set()\n",
    "    # Pick any of the next 3 letters as long as they don't exceed 255 and recurse on the rest\n",
    "    # Pick one\n",
    "    for num in [1, 2, 3]:\n",
    "        this_num = ip_number[idx: idx + num]\n",
    "        if not this_num:\n",
    "            continue\n",
    "        if int(this_num) > 255:\n",
    "            continue\n",
    "            \n",
    "        if all(x == '0' for x in this_num):\n",
    "            this_num = '0'\n",
    "        else:\n",
    "            this_num = this_num.lstrip('0')\n",
    "        \n",
    "        rest = helper(ip_number, idx + num, dot_count - 1)\n",
    "        for comb in rest:\n",
    "            if not comb:\n",
    "                continue\n",
    "            \n",
    "            if all(x == '0' for x in comb):\n",
    "                comb = '0'\n",
    "            else:\n",
    "                comb = comb.lstrip('0')\n",
    "                \n",
    "            ip = this_num + '.' + comb\n",
    "            \n",
    "            this_combs.add(ip)\n",
    "    \n",
    "    return list(this_combs)\n",
    "\n",
    "def get_valid_ip_address(s):\n",
    "    def is_valid_part(s):\n",
    "     # '00', '000', '01', etc. are not valid, but '0' is valid.\n",
    "     return len(s) == 1 or (s[0] != '0' and int(s) <= 255)\n",
    "\n",
    "    result, parts = [], [None] * 4\n",
    "    for i in range(1, min(4, len(s))):\n",
    "        parts[0] = s[:i]\n",
    "        if is_valid_part(parts[0]):\n",
    "            for j in range(1, min(len(s) - i, 4)):\n",
    "                parts[1] = s[i:i + j]\n",
    "                if is_valid_part(parts[1]):\n",
    "                    for k in range(1, min(len(s) - i - j, 4)):\n",
    "                        parts[2], parts[3] = s[i + j:i + j + k], s[i + j + k:]\n",
    "                        if is_valid_part(parts[2]) and is_valid_part(parts[3]):\n",
    "                            result.append('.'.join(parts))\n",
    "    return result\n",
    "\n",
    "# for ip in valid_ip_addr('19216811'):\n",
    "#     print(ip)\n",
    "for ip in get_valid_ip_address('19216811'):    \n",
    "    print(ip)\n"
   ]
  },
  {
   "cell_type": "markdown",
   "metadata": {},
   "source": [
    "#### Snakestring\n",
    "\n",
    "    Hello World\n",
    "        e                 _               l\n",
    "    H       l        o        W       r       d\n",
    "                l                 o\n",
    "   \n",
    "   e_lHloWrdlo\n",
    "   \n",
    "   * Make 3 iterations \n",
    "   * First, start at index 1, jump by 4\n",
    "   * Second, start at index 0, jump by 2\n",
    "   * Third, start at index 3, jump by 4"
   ]
  },
  {
   "cell_type": "markdown",
   "metadata": {},
   "source": [
    "#### Minimum size subarray sum\n",
    "Given an array of n positive integers and a positive integer s, find the minimal length of a subarray of which the sum ≥ s. If there isn't one, return 0 instead.\n",
    "\n",
    "For example, given the array [2,3,1,2,4,3] and s = 7, the subarray [4,3] has the minimal length of 2 under the problem constraint.\n",
    "    \n",
    "   * Keep track of two stretchy pointers i, j like a sliding window\n",
    "   * while j has not reached end\n",
    "   * Keep track of sum in sliding window\n",
    "   * if sum < target, move j forward - stretch\n",
    "   * Else check if this is min\n",
    "   * move i forward and reduce sum by arr[i]"
   ]
  },
  {
   "cell_type": "code",
   "execution_count": 21,
   "metadata": {},
   "outputs": [
    {
     "name": "stdout",
     "output_type": "stream",
     "text": [
      "2\n"
     ]
    }
   ],
   "source": [
    "def minSubArrayLen(s, nums):\n",
    "    \"\"\"\n",
    "    :type s: int\n",
    "    :type nums: List[int]\n",
    "    :rtype: int\n",
    "    \"\"\"\n",
    "    if not nums:\n",
    "        return 0\n",
    "\n",
    "    i = 0\n",
    "    j = 0\n",
    "    target = s\n",
    "    current_sum = nums[i]\n",
    "\n",
    "    min_len = float('inf')\n",
    "\n",
    "    while i < len(nums) - 1:\n",
    "        while current_sum < target:\n",
    "            j += 1\n",
    "            # If we hit the end of the array, no further solution is possible with this or any i\n",
    "            if j == len(nums):\n",
    "                break\n",
    "            current_sum += nums[j]\n",
    "\n",
    "        # If we hit the end of the array, no further solution is possible with this or any i\n",
    "        if j == len(nums):\n",
    "            # So break\n",
    "            break\n",
    "\n",
    "        while current_sum >= target:\n",
    "            min_len = min(min_len, j - i + 1)\n",
    "            current_sum -= nums[i]\n",
    "            i += 1\n",
    "\n",
    "    return 0 if min_len == float('inf') else min_len\n",
    "\n",
    "\n",
    "print(minSubArrayLen(7, [2,3,1,2,4,3]))"
   ]
  },
  {
   "cell_type": "markdown",
   "metadata": {},
   "source": [
    "#### Sort even and odd\n",
    "\n",
    "Sort the array so that all even elements appear before odd elements    \n",
    "\n",
    "   * Insert even elements to the front\n",
    "   * Insert odd elements to the rear\n",
    "   * Keep track of even and odd insert indices"
   ]
  },
  {
   "cell_type": "code",
   "execution_count": 5,
   "metadata": {},
   "outputs": [
    {
     "name": "stdout",
     "output_type": "stream",
     "text": [
      "[3, 10, 7, 12, 14, 4, 6, 8, 9, 13, 11, 2, 1, 5]\n",
      "[2, 10, 8, 12, 14, 4, 7, 6, 9, 13, 11, 3, 1, 5]\n"
     ]
    }
   ],
   "source": [
    "def sort_even_odd(arr):\n",
    "    even_insert_idx = 0\n",
    "    odd_insert_idx = len(arr) - 1\n",
    "    \n",
    "    while even_insert_idx < odd_insert_idx:\n",
    "        while arr[even_insert_idx] % 2 == 0:\n",
    "            even_insert_idx += 1\n",
    "        \n",
    "        while not arr[odd_insert_idx] % 2 == 0:\n",
    "            odd_insert_idx -= 1\n",
    "        \n",
    "        arr[even_insert_idx], arr[odd_insert_idx] = arr[odd_insert_idx], arr[even_insert_idx]\n",
    "        \n",
    "        even_insert_idx += 1\n",
    "        odd_insert_idx -= 1\n",
    "            \n",
    "nums = [i for i in range(1, 15)]\n",
    "import random\n",
    "random.shuffle(nums)\n",
    "print(nums)\n",
    "sort_even_odd(nums)\n",
    "print(nums)"
   ]
  },
  {
   "cell_type": "markdown",
   "metadata": {},
   "source": [
    "#### Convert string to integer"
   ]
  },
  {
   "cell_type": "code",
   "execution_count": 8,
   "metadata": {},
   "outputs": [
    {
     "name": "stdout",
     "output_type": "stream",
     "text": [
      "12345\n",
      "345\n",
      "0\n",
      "5\n"
     ]
    }
   ],
   "source": [
    "def int_to_string(integer):\n",
    "    if not integer:\n",
    "        return str(integer)\n",
    "    \n",
    "    result = ''\n",
    "    while integer:\n",
    "        digit = integer % 10\n",
    "        integer = integer // 10\n",
    "        result += str(digit)\n",
    "    \n",
    "    return result[::-1]\n",
    "\n",
    "print(int_to_string(12345))\n",
    "print(int_to_string(345))\n",
    "print(int_to_string(0))\n",
    "print(int_to_string(5))"
   ]
  },
  {
   "cell_type": "markdown",
   "metadata": {},
   "source": [
    "#### Convert integer to string"
   ]
  },
  {
   "cell_type": "code",
   "execution_count": 9,
   "metadata": {},
   "outputs": [
    {
     "name": "stdout",
     "output_type": "stream",
     "text": [
      "12352\n",
      "1\n",
      "0\n"
     ]
    }
   ],
   "source": [
    "def string_to_int(string):\n",
    "    if string == '0':\n",
    "        return 0\n",
    "    \n",
    "    result = 0\n",
    "    for char in string:\n",
    "        result = result * 10 + int(char)\n",
    "    \n",
    "    return result\n",
    "\n",
    "print(string_to_int('12352'))\n",
    "print(string_to_int('1'))\n",
    "print(string_to_int('0'))"
   ]
  },
  {
   "cell_type": "markdown",
   "metadata": {},
   "source": [
    "#### Replace character and remove\n",
    "Replace 'a' with two 'd's. Delete 'b's\n",
    "\n",
    "I don't know what the heck this is. Move on"
   ]
  },
  {
   "cell_type": "code",
   "execution_count": 32,
   "metadata": {},
   "outputs": [
    {
     "name": "stdout",
     "output_type": "stream",
     "text": [
      "2\n"
     ]
    }
   ],
   "source": [
    "def replace_and_remove(string, size):\n",
    "    write_idx = 0\n",
    "    i = 0\n",
    "    a_count = 0\n",
    "    while i < len(string):\n",
    "        if string[i] == 'b':\n",
    "            write_idx = i\n",
    "            while string[i] == 'b' and i < len(string):\n",
    "                i += 1\n",
    "\n",
    "        if string[i] == 'a':\n",
    "            a_count += 1\n",
    "            \n",
    "        string[write_idx] = string[i]\n",
    "        write_idx += 1\n",
    "        i += 1\n",
    "\n",
    "    cur_idx = write_idx - 1\n",
    "    write_idx = a_count - 1\n",
    "    final_size = write_idx + 1\n",
    "    \n",
    "    while cur_idx >= 0:\n",
    "        if string[cur_idx] == 'a':\n",
    "            string[write_idx - 1:write_idx +1] == 'dd'\n",
    "            write_idx -= 2\n",
    "        else:\n",
    "            string[write_idx] = string[cur_idx]\n",
    "            write_idx -= 1\n",
    "        \n",
    "        cur_idx -= 1\n",
    "    \n",
    "    return final_size\n",
    "        \n",
    "print(replace_and_remove(list('acdbbca'), 6))"
   ]
  },
  {
   "cell_type": "markdown",
   "metadata": {},
   "source": [
    "#### Compress a string\n",
    "Replace multiple instances of a character with the character and its count\n",
    "\n",
    "   * Keep track of the first non unique character index\n",
    "   * This is where the subsequent characters will be written\n",
    "   * If same character is found, iterate and find all subsequent same character and get count\n",
    "   * Insert the count into the insertion index\n",
    "   * Incremenet the insertion index\n",
    "   * If characters are different, copy the character to insert_idx and increment insert idx"
   ]
  },
  {
   "cell_type": "code",
   "execution_count": 49,
   "metadata": {},
   "outputs": [
    {
     "name": "stdout",
     "output_type": "stream",
     "text": [
      "4\n",
      "['a', '2', '2', '2']\n"
     ]
    }
   ],
   "source": [
    "def run_length_encoding(chars):\n",
    "    i = 1\n",
    "    write_idx = 1\n",
    "    new_write = False\n",
    "    while i < len(chars):\n",
    "        if not new_write and chars[i] == chars[i - 1]:\n",
    "            count = 1\n",
    "            while i < len(chars) and chars[i] == chars[i - 1]:\n",
    "                count += 1\n",
    "                i += 1\n",
    "            \n",
    "            for int_char in str(count):\n",
    "                chars[write_idx] = int_char\n",
    "                write_idx += 1\n",
    "                \n",
    "            new_write = True\n",
    "        else:\n",
    "            new_write = False\n",
    "            chars[write_idx] = chars[i]\n",
    "            write_idx += 1\n",
    "            i += 1\n",
    "\n",
    "    print(write_idx)\n",
    "    return chars\n",
    "\n",
    "# print(run_length_encoding([\"a\",\"a\",\"b\",\"b\",\"c\",\"c\",\"c\"]))\n",
    "# print(run_length_encoding([\"a\"]))\n",
    "# print(run_length_encoding([\"a\",\"b\",\"b\",\"b\",\"b\",\"b\",\"b\",\"b\",\"b\",\"b\",\"b\",\"b\",\"b\"]))\n",
    "print(run_length_encoding([\"a\",\"a\",\"2\", \"2\"]))"
   ]
  },
  {
   "cell_type": "code",
   "execution_count": 70,
   "metadata": {},
   "outputs": [
    {
     "name": "stdout",
     "output_type": "stream",
     "text": [
      "1\n",
      "0\n",
      "1\n",
      "1\n"
     ]
    }
   ],
   "source": [
    "def min_of_rotated_sorted_arr(arr):\n",
    "    left = 0\n",
    "    right = len(arr) - 1\n",
    "    \n",
    "    if arr[left] <= arr[right]:\n",
    "        return arr[left]\n",
    "    \n",
    "    while left < right:\n",
    "        mid = (left + right) // 2\n",
    "        \n",
    "        if arr[0] <= arr[mid]:\n",
    "            left = mid + 1\n",
    "        else:\n",
    "            right = mid\n",
    "        \n",
    "    return arr[left]\n",
    "\n",
    "print(min_of_rotated_sorted_arr([3,4,5,1,2]))\n",
    "print(min_of_rotated_sorted_arr([4,5,6,7,0,1,2]))\n",
    "print(min_of_rotated_sorted_arr([1,2,3,4,5]))\n",
    "print(min_of_rotated_sorted_arr([3,1,2]))"
   ]
  },
  {
   "cell_type": "code",
   "execution_count": 79,
   "metadata": {},
   "outputs": [
    {
     "name": "stdout",
     "output_type": "stream",
     "text": [
      "[(-16, 'd'), (-5, 'c'), (-1, 'a')]\n"
     ]
    }
   ],
   "source": [
    "import heapq\n",
    "def frequent_elements(counter, k):\n",
    "    count = 0\n",
    "    min_heap = []\n",
    "    results = []\n",
    "    for item, frequency in counter.items():\n",
    "        if count < k:\n",
    "            count += 1\n",
    "            heapq.heappush(min_heap, (-frequency, item))\n",
    "        else:\n",
    "            if frequency > abs(min_heap[0][0]):\n",
    "                heapq.heapreplace(min_heap, (-frequency, item))\n",
    "    \n",
    "    while min_heap:\n",
    "        results.append(heapq.heappop(min_heap))\n",
    "        \n",
    "    return results\n",
    "\n",
    "d = {\n",
    "    'a': 1,\n",
    "    'b': 10,\n",
    "    'c': 5,\n",
    "    'd': 16,\n",
    "    'e': 11,\n",
    "    'f': 2,\n",
    "    'g': 6,\n",
    "    'g': 8,\n",
    "}\n",
    "\n",
    "print(frequent_elements(d, 3))"
   ]
  },
  {
   "cell_type": "code",
   "execution_count": 1,
   "metadata": {},
   "outputs": [
    {
     "data": {
      "text/plain": [
       "[('a', 'f'), ('b', 'g'), ('c', 'e'), ('d', 't'), ('g', 'h')]"
      ]
     },
     "execution_count": 1,
     "metadata": {},
     "output_type": "execute_result"
    }
   ],
   "source": [
    "a = 'abcdg'\n",
    "b = 'fgethsdf'\n",
    "list(zip(a, b))"
   ]
  },
  {
   "cell_type": "code",
   "execution_count": 5,
   "metadata": {},
   "outputs": [
    {
     "name": "stdout",
     "output_type": "stream",
     "text": [
      "('t', 'f')\n",
      "('w', 'e')\n",
      "('r', 't')\n",
      "('e', 'r')\n",
      "('t', 'f')\n"
     ]
    }
   ],
   "source": [
    "def isMatch(self, text, pattern):\n",
    "    if not pattern:\n",
    "        return not text\n",
    "\n",
    "    first_match = bool(text) and pattern[0] in {text[0], '.'}\n",
    "\n",
    "    if len(pattern) >= 2 and pattern[1] == '*':\n",
    "        return (self.isMatch(text, pattern[2:]) or\n",
    "                first_match and self.isMatch(text[1:], pattern))\n",
    "    else:\n",
    "        return first_match and self.isMatch(text[1:], pattern[1:])    "
   ]
  },
  {
   "cell_type": "code",
   "execution_count": null,
   "metadata": {},
   "outputs": [],
   "source": []
  }
 ],
 "metadata": {
  "kernelspec": {
   "display_name": "Python 3",
   "language": "python",
   "name": "python3"
  },
  "language_info": {
   "codemirror_mode": {
    "name": "ipython",
    "version": 3
   },
   "file_extension": ".py",
   "mimetype": "text/x-python",
   "name": "python",
   "nbconvert_exporter": "python",
   "pygments_lexer": "ipython3",
   "version": "3.6.4"
  }
 },
 "nbformat": 4,
 "nbformat_minor": 2
}
